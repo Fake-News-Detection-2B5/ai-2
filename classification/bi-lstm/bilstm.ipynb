{
  "nbformat": 4,
  "nbformat_minor": 0,
  "metadata": {
    "colab": {
      "name": "bilstm.ipynb",
      "provenance": [],
      "collapsed_sections": []
    },
    "kernelspec": {
      "name": "python3",
      "display_name": "Python 3"
    },
    "language_info": {
      "name": "python"
    }
  },
  "cells": [
    {
      "cell_type": "code",
      "metadata": {
        "id": "TY_8IpXYKZwr"
      },
      "source": [
        "import numpy as np\n",
        "import matplotlib.pyplot as plt\n",
        "import pandas as pd"
      ],
      "execution_count": 3,
      "outputs": []
    },
    {
      "cell_type": "code",
      "metadata": {
        "colab": {
          "base_uri": "https://localhost:8080/",
          "height": 204
        },
        "id": "6f-wl_bCRVDQ",
        "outputId": "52bd73af-3378-4516-b7a7-f8bbe9375795"
      },
      "source": [
        "df = pd.read_csv('combined.csv')\n",
        "df.head()"
      ],
      "execution_count": 4,
      "outputs": [
        {
          "output_type": "execute_result",
          "data": {
            "text/html": [
              "<div>\n",
              "<style scoped>\n",
              "    .dataframe tbody tr th:only-of-type {\n",
              "        vertical-align: middle;\n",
              "    }\n",
              "\n",
              "    .dataframe tbody tr th {\n",
              "        vertical-align: top;\n",
              "    }\n",
              "\n",
              "    .dataframe thead th {\n",
              "        text-align: right;\n",
              "    }\n",
              "</style>\n",
              "<table border=\"1\" class=\"dataframe\">\n",
              "  <thead>\n",
              "    <tr style=\"text-align: right;\">\n",
              "      <th></th>\n",
              "      <th>public_id</th>\n",
              "      <th>title</th>\n",
              "      <th>text</th>\n",
              "      <th>our rating</th>\n",
              "    </tr>\n",
              "  </thead>\n",
              "  <tbody>\n",
              "    <tr>\n",
              "      <th>0</th>\n",
              "      <td>f2182a54</td>\n",
              "      <td>HUGE! Attorney Sidney Powell CONFIRMS Alleged ...</td>\n",
              "      <td>Last week Rep. Louie Gohmert told Chris Salced...</td>\n",
              "      <td>false</td>\n",
              "    </tr>\n",
              "    <tr>\n",
              "      <th>1</th>\n",
              "      <td>c5175d8d</td>\n",
              "      <td>Paul Ryan’s Worst Ally - The New York Times</td>\n",
              "      <td>WHATEVER drama plays out when Republicans meet...</td>\n",
              "      <td>true</td>\n",
              "    </tr>\n",
              "    <tr>\n",
              "      <th>2</th>\n",
              "      <td>213a870b</td>\n",
              "      <td>You Can Get Jail Time Or $3,000 Fine For Not W...</td>\n",
              "      <td>Source page URL  Title You Can Get Jail Time O...</td>\n",
              "      <td>false</td>\n",
              "    </tr>\n",
              "    <tr>\n",
              "      <th>3</th>\n",
              "      <td>392886ea</td>\n",
              "      <td>Antifa gearing up for false flag violence disg...</td>\n",
              "      <td>With merchants in Democrat-run cities boarding...</td>\n",
              "      <td>false</td>\n",
              "    </tr>\n",
              "    <tr>\n",
              "      <th>4</th>\n",
              "      <td>bc6d5d55</td>\n",
              "      <td>Remarks by President Biden on the Administrati...</td>\n",
              "      <td>State Dining Room  4:22 P.M. EST  THE PRESIDEN...</td>\n",
              "      <td>partially false</td>\n",
              "    </tr>\n",
              "  </tbody>\n",
              "</table>\n",
              "</div>"
            ],
            "text/plain": [
              "  public_id  ...       our rating\n",
              "0  f2182a54  ...            false\n",
              "1  c5175d8d  ...             true\n",
              "2  213a870b  ...            false\n",
              "3  392886ea  ...            false\n",
              "4  bc6d5d55  ...  partially false\n",
              "\n",
              "[5 rows x 4 columns]"
            ]
          },
          "metadata": {
            "tags": []
          },
          "execution_count": 4
        }
      ]
    },
    {
      "cell_type": "code",
      "metadata": {
        "colab": {
          "base_uri": "https://localhost:8080/"
        },
        "id": "y-BUYIE3USFp",
        "outputId": "64aa5fed-cc60-4381-a9f9-184b2030cefc"
      },
      "source": [
        "X = df.drop('our rating', axis=1)\n",
        "y = df['our rating']\n",
        "\n",
        "X['total'] = X['title'] + ' ' + X['text']\n",
        "\n",
        "encode = {\"false\": 0,\n",
        "          \"true\": 1,\n",
        "          \"partially false\": 2,\n",
        "          \"other\": 3\n",
        "          }\n",
        "y = y.replace(encode)\n",
        "print(y.value_counts())"
      ],
      "execution_count": 5,
      "outputs": [
        {
          "output_type": "stream",
          "text": [
            "0    335\n",
            "2    100\n",
            "1     31\n",
            "3     21\n",
            "Name: our rating, dtype: int64\n"
          ],
          "name": "stdout"
        }
      ]
    },
    {
      "cell_type": "code",
      "metadata": {
        "colab": {
          "base_uri": "https://localhost:8080/",
          "height": 35
        },
        "id": "Sd9aGa2qUzBI",
        "outputId": "f0cff868-8b20-4c66-e7d3-b00233b8e862"
      },
      "source": [
        "import tensorflow as tf\n",
        "tf.__version__"
      ],
      "execution_count": 6,
      "outputs": [
        {
          "output_type": "execute_result",
          "data": {
            "application/vnd.google.colaboratory.intrinsic+json": {
              "type": "string"
            },
            "text/plain": [
              "'2.4.1'"
            ]
          },
          "metadata": {
            "tags": []
          },
          "execution_count": 6
        }
      ]
    },
    {
      "cell_type": "code",
      "metadata": {
        "id": "5cb-gVBWX3Ko"
      },
      "source": [
        "from tensorflow.keras.layers import Embedding\n",
        "from tensorflow.keras.preprocessing.sequence import pad_sequences\n",
        "from tensorflow.keras.models import Sequential\n",
        "from tensorflow.keras.preprocessing.text import one_hot\n",
        "from tensorflow.keras.layers import LSTM\n",
        "from tensorflow.keras.layers import Dense\n",
        "from tensorflow.keras.layers import Bidirectional\n",
        "from tensorflow.keras.layers import Dropout\n",
        "from tensorflow.keras.layers import SpatialDropout1D"
      ],
      "execution_count": 7,
      "outputs": []
    },
    {
      "cell_type": "code",
      "metadata": {
        "id": "yGuRJUSgZnFx"
      },
      "source": [
        "voc_size = 50000\n",
        "words = X.copy()"
      ],
      "execution_count": 8,
      "outputs": []
    },
    {
      "cell_type": "code",
      "metadata": {
        "id": "lOdBxiRKZplZ"
      },
      "source": [
        "import nltk\n",
        "import re\n",
        "from nltk.corpus import stopwords"
      ],
      "execution_count": 9,
      "outputs": []
    },
    {
      "cell_type": "code",
      "metadata": {
        "colab": {
          "base_uri": "https://localhost:8080/"
        },
        "id": "pM5_-kPMaSSj",
        "outputId": "c3300bf2-c3f0-45cb-f38f-a0243bce5fac"
      },
      "source": [
        "nltk.download('stopwords')\n",
        "nltk.download('wordnet')"
      ],
      "execution_count": 10,
      "outputs": [
        {
          "output_type": "stream",
          "text": [
            "[nltk_data] Downloading package stopwords to /root/nltk_data...\n",
            "[nltk_data]   Unzipping corpora/stopwords.zip.\n",
            "[nltk_data] Downloading package wordnet to /root/nltk_data...\n",
            "[nltk_data]   Unzipping corpora/wordnet.zip.\n"
          ],
          "name": "stdout"
        },
        {
          "output_type": "execute_result",
          "data": {
            "text/plain": [
              "True"
            ]
          },
          "metadata": {
            "tags": []
          },
          "execution_count": 10
        }
      ]
    },
    {
      "cell_type": "code",
      "metadata": {
        "id": "qrHTeBNxa5q4"
      },
      "source": [
        "from nltk.stem import WordNetLemmatizer\n",
        "from nltk.stem import PorterStemmer\n",
        "\n",
        "lemmatizer = WordNetLemmatizer()\n",
        "porter = PorterStemmer()\n",
        "corpus = []\n",
        "\n",
        "for i in range(len(words)):\n",
        "    review = re.sub('[^a-zA-Z]', ' ', words['total'][i])\n",
        "    review = review.lower()\n",
        "    review = review.split()\n",
        "    review = [porter.stem(word) for word in review \n",
        "              if not word in stopwords.words('english')]\n",
        "    review = ' '.join(review)\n",
        "    corpus.append(review)\n"
      ],
      "execution_count": 11,
      "outputs": []
    },
    {
      "cell_type": "code",
      "metadata": {
        "colab": {
          "base_uri": "https://localhost:8080/"
        },
        "id": "w6XfUrV3c6jx",
        "outputId": "e057921c-a17b-4577-a267-b5a42947a895"
      },
      "source": [
        "onehot_repr = [one_hot(word, voc_size) for word in corpus]\n",
        "onehot_repr\n",
        "\n",
        "max_length = max([len(x) for x in onehot_repr])\n",
        "max_length"
      ],
      "execution_count": 12,
      "outputs": [
        {
          "output_type": "execute_result",
          "data": {
            "text/plain": [
              "3055"
            ]
          },
          "metadata": {
            "tags": []
          },
          "execution_count": 12
        }
      ]
    },
    {
      "cell_type": "code",
      "metadata": {
        "colab": {
          "base_uri": "https://localhost:8080/"
        },
        "id": "n8mKlFtfeENu",
        "outputId": "eb954a6f-cdf1-4b26-8c40-a317cbadbac4"
      },
      "source": [
        "embedded_text = pad_sequences(onehot_repr, padding='pre', maxlen=max_length)\n",
        "embedded_text"
      ],
      "execution_count": 13,
      "outputs": [
        {
          "output_type": "execute_result",
          "data": {
            "text/plain": [
              "array([[    0,     0,     0, ..., 15337, 20543,  8814],\n",
              "       [    0,     0,     0, ..., 11019, 43123,  3701],\n",
              "       [    0,     0,     0, ..., 17610, 24000,  7652],\n",
              "       ...,\n",
              "       [    0,     0,     0, ..., 42678, 27650, 27443],\n",
              "       [    0,     0,     0, ..., 29545,  1830,  3827],\n",
              "       [    0,     0,     0, ...,  1660,  1087, 39270]], dtype=int32)"
            ]
          },
          "metadata": {
            "tags": []
          },
          "execution_count": 13
        }
      ]
    },
    {
      "cell_type": "code",
      "metadata": {
        "colab": {
          "base_uri": "https://localhost:8080/"
        },
        "id": "sg_4SCAkfjjK",
        "outputId": "3207d304-451d-49f8-a4c5-eba667859bac"
      },
      "source": [
        "embedding_vector_features = 100\n",
        "model = Sequential()\n",
        "model.add(Embedding(voc_size, embedding_vector_features, \n",
        "                    input_length=max_length))\n",
        "model.add(Bidirectional(LSTM(100)))\n",
        "model.add(Dropout(0.3))\n",
        "model.add(Dense(4, activation='softmax'))\n",
        "model.compile(loss='sparse_categorical_crossentropy', \n",
        "              optimizer='adam', metrics=['accuracy'])\n",
        "print(model.summary())"
      ],
      "execution_count": 14,
      "outputs": [
        {
          "output_type": "stream",
          "text": [
            "Model: \"sequential\"\n",
            "_________________________________________________________________\n",
            "Layer (type)                 Output Shape              Param #   \n",
            "=================================================================\n",
            "embedding (Embedding)        (None, 3055, 100)         5000000   \n",
            "_________________________________________________________________\n",
            "bidirectional (Bidirectional (None, 200)               160800    \n",
            "_________________________________________________________________\n",
            "dropout (Dropout)            (None, 200)               0         \n",
            "_________________________________________________________________\n",
            "dense (Dense)                (None, 4)                 804       \n",
            "=================================================================\n",
            "Total params: 5,161,604\n",
            "Trainable params: 5,161,604\n",
            "Non-trainable params: 0\n",
            "_________________________________________________________________\n",
            "None\n"
          ],
          "name": "stdout"
        }
      ]
    },
    {
      "cell_type": "code",
      "metadata": {
        "colab": {
          "base_uri": "https://localhost:8080/"
        },
        "id": "kSjnuycwhHRF",
        "outputId": "de092407-d580-49bc-c401-a64ce0134d1a"
      },
      "source": [
        "X_processed = np.array(embedded_text)\n",
        "y_processed = np.array(y)\n",
        "\n",
        "X_processed.shape, y_processed.shape"
      ],
      "execution_count": 15,
      "outputs": [
        {
          "output_type": "execute_result",
          "data": {
            "text/plain": [
              "((487, 3055), (487,))"
            ]
          },
          "metadata": {
            "tags": []
          },
          "execution_count": 15
        }
      ]
    },
    {
      "cell_type": "code",
      "metadata": {
        "id": "xJmP6IXXhwH1"
      },
      "source": [
        "from sklearn.model_selection import train_test_split\n",
        "X_train, X_test, y_train, y_test = train_test_split(X_processed, y_processed, test_size=0.20, random_state=69)"
      ],
      "execution_count": 30,
      "outputs": []
    },
    {
      "cell_type": "code",
      "metadata": {
        "colab": {
          "base_uri": "https://localhost:8080/"
        },
        "id": "695ynbPjh30u",
        "outputId": "0d538d84-f764-4559-af73-ec8d05398d20"
      },
      "source": [
        "history = model.fit(X_train, y_train, validation_split=0.1, epochs=10, batch_size=64)"
      ],
      "execution_count": 17,
      "outputs": [
        {
          "output_type": "stream",
          "text": [
            "Epoch 1/10\n",
            "6/6 [==============================] - 51s 8s/step - loss: 1.3371 - accuracy: 0.6180 - val_loss: 1.1626 - val_accuracy: 0.6923\n",
            "Epoch 2/10\n",
            "6/6 [==============================] - 45s 7s/step - loss: 1.0754 - accuracy: 0.6718 - val_loss: 0.9688 - val_accuracy: 0.6923\n",
            "Epoch 3/10\n",
            "6/6 [==============================] - 46s 8s/step - loss: 0.8426 - accuracy: 0.7012 - val_loss: 0.9554 - val_accuracy: 0.6923\n",
            "Epoch 4/10\n",
            "6/6 [==============================] - 46s 8s/step - loss: 0.8793 - accuracy: 0.6682 - val_loss: 0.9254 - val_accuracy: 0.6923\n",
            "Epoch 5/10\n",
            "6/6 [==============================] - 45s 8s/step - loss: 0.7790 - accuracy: 0.6743 - val_loss: 0.8669 - val_accuracy: 0.6923\n",
            "Epoch 6/10\n",
            "6/6 [==============================] - 45s 8s/step - loss: 0.6295 - accuracy: 0.7075 - val_loss: 0.8510 - val_accuracy: 0.7949\n",
            "Epoch 7/10\n",
            "6/6 [==============================] - 46s 8s/step - loss: 0.5976 - accuracy: 0.8485 - val_loss: 0.8728 - val_accuracy: 0.7692\n",
            "Epoch 8/10\n",
            "6/6 [==============================] - 46s 8s/step - loss: 0.4913 - accuracy: 0.8750 - val_loss: 0.7645 - val_accuracy: 0.8205\n",
            "Epoch 9/10\n",
            "6/6 [==============================] - 46s 8s/step - loss: 0.3434 - accuracy: 0.8829 - val_loss: 0.9474 - val_accuracy: 0.7692\n",
            "Epoch 10/10\n",
            "6/6 [==============================] - 45s 8s/step - loss: 0.2916 - accuracy: 0.8843 - val_loss: 0.8647 - val_accuracy: 0.7692\n"
          ],
          "name": "stdout"
        }
      ]
    },
    {
      "cell_type": "code",
      "metadata": {
        "colab": {
          "base_uri": "https://localhost:8080/",
          "height": 281
        },
        "id": "zQruST8zRCKc",
        "outputId": "b535c905-e8fb-4895-a83e-918d3b5c3e72"
      },
      "source": [
        "plt.title('Loss')\n",
        "plt.plot(history.history['loss'], label='train')\n",
        "plt.plot(history.history['val_loss'], label='test')\n",
        "plt.legend()\n",
        "plt.show()"
      ],
      "execution_count": 18,
      "outputs": [
        {
          "output_type": "display_data",
          "data": {
            "image/png": "[encoded data removed]",
            "text/plain": [
              "<Figure size 432x288 with 1 Axes>"
            ]
          },
          "metadata": {
            "tags": [],
            "needs_background": "light"
          }
        }
      ]
    },
    {
      "cell_type": "code",
      "metadata": {
        "colab": {
          "base_uri": "https://localhost:8080/",
          "height": 281
        },
        "id": "x8fVaLIXRPdU",
        "outputId": "0cc1ef61-79b7-4523-85f6-5f52e5248484"
      },
      "source": [
        "plt.title('Accuracy')\n",
        "plt.plot(history.history['accuracy'], label='train')\n",
        "plt.plot(history.history['val_accuracy'], label='test')\n",
        "plt.legend()\n",
        "plt.show()"
      ],
      "execution_count": 19,
      "outputs": [
        {
          "output_type": "display_data",
          "data": {
            "image/png": "[encoded data removed]",
            "text/plain": [
              "<Figure size 432x288 with 1 Axes>"
            ]
          },
          "metadata": {
            "tags": [],
            "needs_background": "light"
          }
        }
      ]
    },
    {
      "cell_type": "code",
      "metadata": {
        "colab": {
          "base_uri": "https://localhost:8080/"
        },
        "id": "gVOfMUKYA1TX",
        "outputId": "e06387e0-1a03-458f-c635-c19fcb4715b5"
      },
      "source": [
        "pred = model.predict_classes(X_test)\n",
        "pred"
      ],
      "execution_count": 31,
      "outputs": [
        {
          "output_type": "stream",
          "text": [
            "/usr/local/lib/python3.7/dist-packages/tensorflow/python/keras/engine/sequential.py:450: UserWarning: `model.predict_classes()` is deprecated and will be removed after 2021-01-01. Please use instead:* `np.argmax(model.predict(x), axis=-1)`,   if your model does multi-class classification   (e.g. if it uses a `softmax` last-layer activation).* `(model.predict(x) > 0.5).astype(\"int32\")`,   if your model does binary classification   (e.g. if it uses a `sigmoid` last-layer activation).\n",
            "  warnings.warn('`model.predict_classes()` is deprecated and '\n"
          ],
          "name": "stderr"
        },
        {
          "output_type": "execute_result",
          "data": {
            "text/plain": [
              "array([0, 0, 0, 0, 2, 0, 0, 0, 2, 2, 2, 0, 0, 0, 0, 0, 2, 0, 2, 0, 0, 0,\n",
              "       0, 0, 0, 0, 2, 2, 0, 0, 0, 0, 2, 0, 0, 2, 0, 0, 0, 0, 0, 0, 0, 0,\n",
              "       0, 2, 0, 0, 2, 0, 0, 0, 0, 0, 2, 2, 0, 0, 0, 2, 0, 2, 0, 0, 0, 0,\n",
              "       0, 0, 0, 2, 2, 2, 0, 2, 2, 2, 2, 0, 0, 2, 0, 0, 0, 0, 0, 0, 0, 0,\n",
              "       0, 0, 0, 2, 0, 2, 2, 2, 0, 2])"
            ]
          },
          "metadata": {
            "tags": []
          },
          "execution_count": 31
        }
      ]
    },
    {
      "cell_type": "code",
      "metadata": {
        "id": "Y_7MzULoI5k7"
      },
      "source": [
        "from sklearn.metrics import confusion_matrix\n",
        "from sklearn.metrics import classification_report"
      ],
      "execution_count": 21,
      "outputs": []
    },
    {
      "cell_type": "code",
      "metadata": {
        "colab": {
          "base_uri": "https://localhost:8080/"
        },
        "id": "8dGZWRQ-Jd70",
        "outputId": "2398017e-9553-4c63-f511-63f67ed0fa01"
      },
      "source": [
        "print(classification_report(y_test, pred))"
      ],
      "execution_count": 32,
      "outputs": [
        {
          "output_type": "stream",
          "text": [
            "              precision    recall  f1-score   support\n",
            "\n",
            "           0       0.99      0.99      0.99        69\n",
            "           1       0.00      0.00      0.00         4\n",
            "           2       0.83      1.00      0.91        24\n",
            "           3       0.00      0.00      0.00         1\n",
            "\n",
            "    accuracy                           0.94        98\n",
            "   macro avg       0.45      0.50      0.47        98\n",
            "weighted avg       0.90      0.94      0.92        98\n",
            "\n"
          ],
          "name": "stdout"
        },
        {
          "output_type": "stream",
          "text": [
            "/usr/local/lib/python3.7/dist-packages/sklearn/metrics/_classification.py:1272: UndefinedMetricWarning: Precision and F-score are ill-defined and being set to 0.0 in labels with no predicted samples. Use `zero_division` parameter to control this behavior.\n",
            "  _warn_prf(average, modifier, msg_start, len(result))\n"
          ],
          "name": "stderr"
        }
      ]
    },
    {
      "cell_type": "code",
      "metadata": {
        "colab": {
          "base_uri": "https://localhost:8080/",
          "height": 445
        },
        "id": "njeM8MzZJbhm",
        "outputId": "8ea156fb-97a4-4ff0-eb31-f2feae80141f"
      },
      "source": [
        "import seaborn as sn\n",
        "cm = confusion_matrix(y_test, pred)\n",
        "df_cm = pd.DataFrame(cm, index=['false', 'true', 'probably false', 'other'], \n",
        "                     columns=['false', 'true', 'probably false', 'other'])\n",
        "plt.figure(figsize = (10, 7))\n",
        "sn.heatmap(df_cm, cmap=\"Blues\", annot=True)"
      ],
      "execution_count": 35,
      "outputs": [
        {
          "output_type": "execute_result",
          "data": {
            "text/plain": [
              "<matplotlib.axes._subplots.AxesSubplot at 0x7fc58aab6250>"
            ]
          },
          "metadata": {
            "tags": []
          },
          "execution_count": 35
        },
        {
          "output_type": "display_data",
          "data": {
            "image/png": "[encoded data removed]",
            "text/plain": [
              "<Figure size 720x504 with 2 Axes>"
            ]
          },
          "metadata": {
            "tags": [],
            "needs_background": "light"
          }
        }
      ]
    }
  ]
}