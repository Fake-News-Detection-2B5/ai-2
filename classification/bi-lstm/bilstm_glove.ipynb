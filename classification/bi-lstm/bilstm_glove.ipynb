{
  "nbformat": 4,
  "nbformat_minor": 0,
  "metadata": {
    "colab": {
      "name": "bilstm-glove.ipynb",
      "provenance": [],
      "collapsed_sections": []
    },
    "kernelspec": {
      "name": "python3",
      "display_name": "Python 3"
    },
    "language_info": {
      "name": "python"
    }
  },
  "cells": [
    {
      "cell_type": "code",
      "metadata": {
        "id": "TY_8IpXYKZwr"
      },
      "source": [
        "import numpy as np\n",
        "import matplotlib.pyplot as plt\n",
        "import pandas as pd"
      ],
      "execution_count": 2,
      "outputs": []
    },
    {
      "cell_type": "code",
      "metadata": {
        "colab": {
          "base_uri": "https://localhost:8080/",
          "height": 204
        },
        "id": "6f-wl_bCRVDQ",
        "outputId": "1fcf1575-71dc-4041-8daf-f48294e57e53"
      },
      "source": [
        "df = pd.read_csv('combined_all.csv')\n",
        "df.fillna('', inplace=True)\n",
        "df.head()"
      ],
      "execution_count": 3,
      "outputs": [
        {
          "output_type": "execute_result",
          "data": {
            "text/html": [
              "<div>\n",
              "<style scoped>\n",
              "    .dataframe tbody tr th:only-of-type {\n",
              "        vertical-align: middle;\n",
              "    }\n",
              "\n",
              "    .dataframe tbody tr th {\n",
              "        vertical-align: top;\n",
              "    }\n",
              "\n",
              "    .dataframe thead th {\n",
              "        text-align: right;\n",
              "    }\n",
              "</style>\n",
              "<table border=\"1\" class=\"dataframe\">\n",
              "  <thead>\n",
              "    <tr style=\"text-align: right;\">\n",
              "      <th></th>\n",
              "      <th>public_id</th>\n",
              "      <th>title</th>\n",
              "      <th>text</th>\n",
              "      <th>our rating</th>\n",
              "    </tr>\n",
              "  </thead>\n",
              "  <tbody>\n",
              "    <tr>\n",
              "      <th>0</th>\n",
              "      <td>f2182a54</td>\n",
              "      <td>HUGE! Attorney Sidney Powell CONFIRMS Alleged ...</td>\n",
              "      <td>Last week Rep. Louie Gohmert told Chris Salced...</td>\n",
              "      <td>false</td>\n",
              "    </tr>\n",
              "    <tr>\n",
              "      <th>1</th>\n",
              "      <td>c5175d8d</td>\n",
              "      <td>Paul Ryan’s Worst Ally - The New York Times</td>\n",
              "      <td>WHATEVER drama plays out when Republicans meet...</td>\n",
              "      <td>true</td>\n",
              "    </tr>\n",
              "    <tr>\n",
              "      <th>2</th>\n",
              "      <td>213a870b</td>\n",
              "      <td>You Can Get Jail Time Or $3,000 Fine For Not W...</td>\n",
              "      <td>Source page URL  Title You Can Get Jail Time O...</td>\n",
              "      <td>false</td>\n",
              "    </tr>\n",
              "    <tr>\n",
              "      <th>3</th>\n",
              "      <td>392886ea</td>\n",
              "      <td>Antifa gearing up for false flag violence disg...</td>\n",
              "      <td>With merchants in Democrat-run cities boarding...</td>\n",
              "      <td>false</td>\n",
              "    </tr>\n",
              "    <tr>\n",
              "      <th>4</th>\n",
              "      <td>bc6d5d55</td>\n",
              "      <td>Remarks by President Biden on the Administrati...</td>\n",
              "      <td>State Dining Room  4:22 P.M. EST  THE PRESIDEN...</td>\n",
              "      <td>partially false</td>\n",
              "    </tr>\n",
              "  </tbody>\n",
              "</table>\n",
              "</div>"
            ],
            "text/plain": [
              "  public_id  ...       our rating\n",
              "0  f2182a54  ...            false\n",
              "1  c5175d8d  ...             true\n",
              "2  213a870b  ...            false\n",
              "3  392886ea  ...            false\n",
              "4  bc6d5d55  ...  partially false\n",
              "\n",
              "[5 rows x 4 columns]"
            ]
          },
          "metadata": {
            "tags": []
          },
          "execution_count": 3
        }
      ]
    },
    {
      "cell_type": "code",
      "metadata": {
        "colab": {
          "base_uri": "https://localhost:8080/"
        },
        "id": "y-BUYIE3USFp",
        "outputId": "bdb71a14-2d1a-4e46-b074-2bd6108fc898"
      },
      "source": [
        "X = df.drop('our rating', axis=1)\n",
        "y = df['our rating']\n",
        "\n",
        "X['total'] = X['title'] + ' ' + X['text']\n",
        "\n",
        "encode = {\"false\": 0,\n",
        "          \"true\": 1,\n",
        "          \"partially false\": 2,\n",
        "          \"other\": 3\n",
        "          }\n",
        "\n",
        "y = y.replace(encode)\n",
        "print(y.value_counts())"
      ],
      "execution_count": 4,
      "outputs": [
        {
          "output_type": "stream",
          "text": [
            "0    485\n",
            "2    237\n",
            "1    152\n",
            "3     76\n",
            "Name: our rating, dtype: int64\n"
          ],
          "name": "stdout"
        }
      ]
    },
    {
      "cell_type": "code",
      "metadata": {
        "colab": {
          "base_uri": "https://localhost:8080/",
          "height": 35
        },
        "id": "Sd9aGa2qUzBI",
        "outputId": "123164a3-2718-4626-9304-108d090af2a4"
      },
      "source": [
        "import tensorflow as tf\n",
        "tf.__version__"
      ],
      "execution_count": 5,
      "outputs": [
        {
          "output_type": "execute_result",
          "data": {
            "application/vnd.google.colaboratory.intrinsic+json": {
              "type": "string"
            },
            "text/plain": [
              "'2.4.1'"
            ]
          },
          "metadata": {
            "tags": []
          },
          "execution_count": 5
        }
      ]
    },
    {
      "cell_type": "code",
      "metadata": {
        "id": "5cb-gVBWX3Ko"
      },
      "source": [
        "from tensorflow.keras.layers import Embedding\n",
        "from tensorflow.keras.preprocessing.sequence import pad_sequences\n",
        "from tensorflow.keras.models import Sequential\n",
        "from tensorflow.keras.preprocessing.text import one_hot\n",
        "from tensorflow.keras.preprocessing.text import Tokenizer\n",
        "from tensorflow.keras.layers import LSTM\n",
        "from tensorflow.keras.layers import Dense\n",
        "from tensorflow.keras.layers import Bidirectional\n",
        "from tensorflow.keras.layers import Dropout\n",
        "from tensorflow.keras.layers import SpatialDropout1D\n",
        "from tensorflow.keras.layers import Activation\n",
        "from tensorflow.keras.layers import Conv1D\n",
        "from tensorflow.keras.layers import LeakyReLU"
      ],
      "execution_count": 6,
      "outputs": []
    },
    {
      "cell_type": "code",
      "metadata": {
        "id": "yGuRJUSgZnFx"
      },
      "source": [
        "words = X.copy()"
      ],
      "execution_count": 7,
      "outputs": []
    },
    {
      "cell_type": "code",
      "metadata": {
        "id": "lOdBxiRKZplZ"
      },
      "source": [
        "import nltk\n",
        "import re\n",
        "from nltk.corpus import stopwords"
      ],
      "execution_count": 8,
      "outputs": []
    },
    {
      "cell_type": "code",
      "metadata": {
        "colab": {
          "base_uri": "https://localhost:8080/"
        },
        "id": "pM5_-kPMaSSj",
        "outputId": "9d1cad46-ef48-4114-b2be-de37df9b2fb1"
      },
      "source": [
        "nltk.download('stopwords')\n",
        "nltk.download('wordnet')"
      ],
      "execution_count": 9,
      "outputs": [
        {
          "output_type": "stream",
          "text": [
            "[nltk_data] Downloading package stopwords to /root/nltk_data...\n",
            "[nltk_data]   Unzipping corpora/stopwords.zip.\n",
            "[nltk_data] Downloading package wordnet to /root/nltk_data...\n",
            "[nltk_data]   Unzipping corpora/wordnet.zip.\n"
          ],
          "name": "stdout"
        },
        {
          "output_type": "execute_result",
          "data": {
            "text/plain": [
              "True"
            ]
          },
          "metadata": {
            "tags": []
          },
          "execution_count": 9
        }
      ]
    },
    {
      "cell_type": "code",
      "metadata": {
        "id": "qrHTeBNxa5q4"
      },
      "source": [
        "from nltk.stem import WordNetLemmatizer\n",
        "from nltk.stem import PorterStemmer\n",
        "\n",
        "lemmatizer = WordNetLemmatizer()\n",
        "porter = PorterStemmer()\n",
        "corpus = []\n",
        "\n",
        "for i in range(len(words)):\n",
        "  review = re.sub('[^a-zA-Z]', ' ', words['total'].iloc[i])\n",
        "  review = review.lower()\n",
        "  review = review.split()\n",
        "  review = [word for word in review \n",
        "            if not word in stopwords.words('english')]\n",
        "  review = ' '.join(review)\n",
        "  corpus.append(review)"
      ],
      "execution_count": 10,
      "outputs": []
    },
    {
      "cell_type": "code",
      "metadata": {
        "colab": {
          "base_uri": "https://localhost:8080/"
        },
        "id": "a0f59MrZTCsg",
        "outputId": "02e604a0-dccb-43df-d61c-be0978579926"
      },
      "source": [
        "tokenizer = Tokenizer(num_words=20000)\n",
        "tokenizer.fit_on_texts(corpus)\n",
        "sequences = tokenizer.texts_to_sequences(corpus)\n",
        "word_index = tokenizer.word_index\n",
        "max_len = max([len(x) for x in sequences])\n",
        "len(word_index)"
      ],
      "execution_count": 11,
      "outputs": [
        {
          "output_type": "execute_result",
          "data": {
            "text/plain": [
              "27401"
            ]
          },
          "metadata": {
            "tags": []
          },
          "execution_count": 11
        }
      ]
    },
    {
      "cell_type": "code",
      "metadata": {
        "colab": {
          "base_uri": "https://localhost:8080/"
        },
        "id": "bY7FFAJrT7aR",
        "outputId": "64429861-0c1c-41e4-c3ed-f7514af80824"
      },
      "source": [
        "data = pad_sequences(sequences, padding='post', maxlen=max_len)\n",
        "data[420]"
      ],
      "execution_count": 12,
      "outputs": [
        {
          "output_type": "execute_result",
          "data": {
            "text/plain": [
              "array([   8, 4701,   29, ...,    0,    0,    0], dtype=int32)"
            ]
          },
          "metadata": {
            "tags": []
          },
          "execution_count": 12
        }
      ]
    },
    {
      "cell_type": "code",
      "metadata": {
        "id": "K5atB-j1U6lT"
      },
      "source": [
        "embeddings_index = {}\n",
        "GLOVE_DIR = '/content/drive/MyDrive/Fake News Detection AI-Two/glove.6B.100d.txt'\n",
        "EMBEDDING_DIM = 100\n",
        "\n",
        "with open(GLOVE_DIR, 'r') as f:\n",
        "  for line in f:\n",
        "    values = line.split()\n",
        "    word = values[0]\n",
        "    embeddings_index[word] = np.asarray(values[1:], dtype='float32')\n",
        "\n",
        "embedding_matrix = np.random.random((len(word_index) + 1, EMBEDDING_DIM))\n",
        "for word, i in word_index.items():\n",
        "  embedding_vector = embeddings_index.get(word)\n",
        "  if embedding_vector is not None:\n",
        "    embedding_matrix[i] = embedding_vector\n",
        "  else:\n",
        "    embedding_matrix[i] = np.random.randn(EMBEDDING_DIM)"
      ],
      "execution_count": 13,
      "outputs": []
    },
    {
      "cell_type": "code",
      "metadata": {
        "colab": {
          "base_uri": "https://localhost:8080/"
        },
        "id": "sg_4SCAkfjjK",
        "outputId": "bf4f679b-d14f-43ea-9540-df7c2d784470"
      },
      "source": [
        "model = Sequential()\n",
        "model.add(Embedding(len(word_index)+1, EMBEDDING_DIM,\n",
        "                    weights=[embedding_matrix],\n",
        "                    input_length=max_len,\n",
        "                    trainable=True))\n",
        "model.add(Bidirectional(LSTM(64, return_sequences=True)))\n",
        "model.add(Bidirectional(LSTM(32)))\n",
        "model.add(Dropout(0.25))\n",
        "model.add(Dense(4, activation='softmax'))\n",
        "model.compile(loss='sparse_categorical_crossentropy', \n",
        "              optimizer='adam', metrics=['accuracy'])\n",
        "print(model.summary())"
      ],
      "execution_count": 14,
      "outputs": [
        {
          "output_type": "stream",
          "text": [
            "Model: \"sequential\"\n",
            "_________________________________________________________________\n",
            "Layer (type)                 Output Shape              Param #   \n",
            "=================================================================\n",
            "embedding (Embedding)        (None, 3228, 100)         2740200   \n",
            "_________________________________________________________________\n",
            "bidirectional (Bidirectional (None, 3228, 128)         84480     \n",
            "_________________________________________________________________\n",
            "bidirectional_1 (Bidirection (None, 64)                41216     \n",
            "_________________________________________________________________\n",
            "dropout (Dropout)            (None, 64)                0         \n",
            "_________________________________________________________________\n",
            "dense (Dense)                (None, 4)                 260       \n",
            "=================================================================\n",
            "Total params: 2,866,156\n",
            "Trainable params: 2,866,156\n",
            "Non-trainable params: 0\n",
            "_________________________________________________________________\n",
            "None\n"
          ],
          "name": "stdout"
        }
      ]
    },
    {
      "cell_type": "code",
      "metadata": {
        "colab": {
          "base_uri": "https://localhost:8080/"
        },
        "id": "kSjnuycwhHRF",
        "outputId": "22361f8b-e1fb-4fef-d37a-3a6d3f6c0ba1"
      },
      "source": [
        "X_processed = np.array(data)\n",
        "y_processed = np.array(y)\n",
        "\n",
        "X_processed.shape, y_processed.shape"
      ],
      "execution_count": 15,
      "outputs": [
        {
          "output_type": "execute_result",
          "data": {
            "text/plain": [
              "((950, 3228), (950,))"
            ]
          },
          "metadata": {
            "tags": []
          },
          "execution_count": 15
        }
      ]
    },
    {
      "cell_type": "code",
      "metadata": {
        "id": "xJmP6IXXhwH1"
      },
      "source": [
        "from sklearn.model_selection import train_test_split\n",
        "X_train, X_test, y_train, y_test = train_test_split(X_processed, y_processed, \n",
        "                                                    test_size=0.2, random_state=42)"
      ],
      "execution_count": 16,
      "outputs": []
    },
    {
      "cell_type": "code",
      "metadata": {
        "colab": {
          "base_uri": "https://localhost:8080/"
        },
        "id": "695ynbPjh30u",
        "outputId": "2aa88a7a-e720-4e46-92ea-54c508e83b3b"
      },
      "source": [
        "callback = tf.keras.callbacks.EarlyStopping(monitor='val_loss', min_delta=0, verbose= 0, patience=2, mode='auto')\n",
        "# history = model.fit(X_train, y_train, validation_split=0.1, epochs=5, batch_size=32)\n",
        "history = model.fit(X_train, y_train, validation_split=0.1, callbacks=[callback], epochs=5, batch_size=32)"
      ],
      "execution_count": 17,
      "outputs": [
        {
          "output_type": "stream",
          "text": [
            "Epoch 1/5\n",
            "22/22 [==============================] - 221s 10s/step - loss: 1.2352 - accuracy: 0.4766 - val_loss: 1.2266 - val_accuracy: 0.4868\n",
            "Epoch 2/5\n",
            "22/22 [==============================] - 215s 10s/step - loss: 1.1397 - accuracy: 0.5233 - val_loss: 1.2090 - val_accuracy: 0.5395\n",
            "Epoch 3/5\n",
            "22/22 [==============================] - 215s 10s/step - loss: 0.9912 - accuracy: 0.6010 - val_loss: 1.2315 - val_accuracy: 0.4737\n",
            "Epoch 4/5\n",
            "22/22 [==============================] - 227s 10s/step - loss: 0.8743 - accuracy: 0.6633 - val_loss: 1.2078 - val_accuracy: 0.5789\n",
            "Epoch 5/5\n",
            "22/22 [==============================] - 226s 10s/step - loss: 0.6945 - accuracy: 0.7168 - val_loss: 1.3177 - val_accuracy: 0.5395\n"
          ],
          "name": "stdout"
        }
      ]
    },
    {
      "cell_type": "code",
      "metadata": {
        "colab": {
          "base_uri": "https://localhost:8080/",
          "height": 265
        },
        "id": "zQruST8zRCKc",
        "outputId": "de3b0cb7-6274-4961-926a-91253ed1bd80"
      },
      "source": [
        "plt.plot(history.history['loss'], label='train')\n",
        "plt.plot(history.history['val_loss'], label='test')\n",
        "plt.xlabel=('Epochs')\n",
        "plt.ylabel('Loss')\n",
        "plt.legend()\n",
        "plt.show()"
      ],
      "execution_count": 18,
      "outputs": [
        {
          "output_type": "display_data",
          "data": {
            "image/png": "[encoded data removed]",
            "text/plain": [
              "<Figure size 432x288 with 1 Axes>"
            ]
          },
          "metadata": {
            "tags": [],
            "needs_background": "light"
          }
        }
      ]
    },
    {
      "cell_type": "code",
      "metadata": {
        "colab": {
          "base_uri": "https://localhost:8080/",
          "height": 281
        },
        "id": "x8fVaLIXRPdU",
        "outputId": "c39da27f-2cb0-46d5-ad35-32f2d5ded1ba"
      },
      "source": [
        "plt.title('Accuracy')\n",
        "plt.plot(history.history['accuracy'], label='train')\n",
        "plt.plot(history.history['val_accuracy'], label='test')\n",
        "plt.xlabel=('Epochs')\n",
        "plt.ylabel('Accuracy')\n",
        "plt.legend()\n",
        "plt.show()"
      ],
      "execution_count": 19,
      "outputs": [
        {
          "output_type": "display_data",
          "data": {
            "image/png": "[encoded data removed]",
            "text/plain": [
              "<Figure size 432x288 with 1 Axes>"
            ]
          },
          "metadata": {
            "tags": [],
            "needs_background": "light"
          }
        }
      ]
    },
    {
      "cell_type": "code",
      "metadata": {
        "colab": {
          "base_uri": "https://localhost:8080/"
        },
        "id": "gVOfMUKYA1TX",
        "outputId": "dff8bd72-fffe-41c0-ee9e-0ec1af3a2ad2"
      },
      "source": [
        "pred = model.predict_classes(X_test)\n",
        "pred"
      ],
      "execution_count": 20,
      "outputs": [
        {
          "output_type": "stream",
          "text": [
            "/usr/local/lib/python3.7/dist-packages/tensorflow/python/keras/engine/sequential.py:450: UserWarning: `model.predict_classes()` is deprecated and will be removed after 2021-01-01. Please use instead:* `np.argmax(model.predict(x), axis=-1)`,   if your model does multi-class classification   (e.g. if it uses a `softmax` last-layer activation).* `(model.predict(x) > 0.5).astype(\"int32\")`,   if your model does binary classification   (e.g. if it uses a `sigmoid` last-layer activation).\n",
            "  warnings.warn('`model.predict_classes()` is deprecated and '\n"
          ],
          "name": "stderr"
        },
        {
          "output_type": "execute_result",
          "data": {
            "text/plain": [
              "array([0, 0, 0, 2, 0, 2, 0, 1, 2, 2, 0, 2, 0, 0, 0, 2, 0, 2, 0, 0, 2, 0,\n",
              "       2, 2, 1, 2, 0, 0, 0, 2, 0, 0, 0, 0, 0, 2, 0, 0, 0, 0, 2, 0, 0, 0,\n",
              "       2, 0, 2, 2, 2, 2, 0, 0, 0, 0, 0, 0, 0, 0, 0, 2, 2, 2, 0, 2, 0, 2,\n",
              "       0, 0, 2, 0, 0, 0, 2, 0, 0, 0, 0, 0, 2, 0, 0, 0, 0, 2, 0, 0, 2, 0,\n",
              "       0, 2, 0, 0, 0, 0, 0, 0, 0, 0, 0, 0, 2, 2, 0, 0, 2, 0, 0, 0, 0, 2,\n",
              "       0, 1, 2, 0, 2, 0, 0, 2, 0, 0, 2, 0, 0, 0, 2, 0, 0, 2, 2, 0, 2, 0,\n",
              "       0, 0, 0, 2, 0, 2, 0, 0, 0, 2, 0, 0, 2, 0, 0, 0, 2, 2, 0, 0, 2, 0,\n",
              "       1, 1, 0, 0, 2, 2, 2, 0, 0, 2, 0, 0, 0, 2, 0, 0, 2, 0, 2, 2, 0, 2,\n",
              "       0, 2, 2, 1, 2, 2, 2, 2, 0, 2, 2, 0, 1, 2])"
            ]
          },
          "metadata": {
            "tags": []
          },
          "execution_count": 20
        }
      ]
    },
    {
      "cell_type": "code",
      "metadata": {
        "id": "Y_7MzULoI5k7"
      },
      "source": [
        "from sklearn.metrics import confusion_matrix\n",
        "from sklearn.metrics import classification_report"
      ],
      "execution_count": 21,
      "outputs": []
    },
    {
      "cell_type": "code",
      "metadata": {
        "colab": {
          "base_uri": "https://localhost:8080/"
        },
        "id": "8dGZWRQ-Jd70",
        "outputId": "87c5d4cc-6576-4a5b-89f0-609b04aadfff"
      },
      "source": [
        "print(classification_report(y_test, pred, zero_division=False))"
      ],
      "execution_count": 22,
      "outputs": [
        {
          "output_type": "stream",
          "text": [
            "              precision    recall  f1-score   support\n",
            "\n",
            "           0       0.58      0.73      0.64        92\n",
            "           1       0.43      0.11      0.18        27\n",
            "           2       0.46      0.58      0.52        53\n",
            "           3       0.00      0.00      0.00        18\n",
            "\n",
            "    accuracy                           0.53       190\n",
            "   macro avg       0.37      0.36      0.33       190\n",
            "weighted avg       0.47      0.53      0.48       190\n",
            "\n"
          ],
          "name": "stdout"
        }
      ]
    },
    {
      "cell_type": "code",
      "metadata": {
        "colab": {
          "base_uri": "https://localhost:8080/",
          "height": 445
        },
        "id": "njeM8MzZJbhm",
        "outputId": "61f7df47-082a-44df-fd31-4d771af47e5b"
      },
      "source": [
        "import seaborn as sn\n",
        "cm = confusion_matrix(y_test, pred)\n",
        "df_cm = pd.DataFrame(cm, index=['false', 'true', 'probably false', 'other'], \n",
        "                     columns=['false', 'true', 'probably false', 'other'])\n",
        "plt.figure(figsize = (10, 7))\n",
        "sn.heatmap(df_cm, cmap=\"Blues\", annot=True)"
      ],
      "execution_count": 23,
      "outputs": [
        {
          "output_type": "execute_result",
          "data": {
            "text/plain": [
              "<matplotlib.axes._subplots.AxesSubplot at 0x7fbb62903e10>"
            ]
          },
          "metadata": {
            "tags": []
          },
          "execution_count": 23
        },
        {
          "output_type": "display_data",
          "data": {
            "image/png": "[encoded data removed]",
            "text/plain": [
              "<Figure size 720x504 with 2 Axes>"
            ]
          },
          "metadata": {
            "tags": [],
            "needs_background": "light"
          }
        }
      ]
    },
    {
      "cell_type": "code",
      "metadata": {
        "id": "ICKjLTcihg10"
      },
      "source": [
        "test = pd.read_csv('Task3a_testing.csv')\n",
        "test.fillna('', inplace=True)\n",
        "test['total'] = test['title'] + ' ' + test['text']"
      ],
      "execution_count": 24,
      "outputs": []
    },
    {
      "cell_type": "code",
      "metadata": {
        "id": "57wo-2SGRh6H"
      },
      "source": [
        "words_test = test.copy()\n",
        "corpus_test = []\n",
        "\n",
        "for i in range(len(words_test)):\n",
        "  review = re.sub('[^a-zA-Z]', ' ', words_test['total'].iloc[i])\n",
        "  review = review.lower()\n",
        "  review = review.split()\n",
        "  review = [word for word in review \n",
        "            if not word in stopwords.words('english')]\n",
        "  review = ' '.join(review)\n",
        "  corpus_test.append(review)"
      ],
      "execution_count": 25,
      "outputs": []
    },
    {
      "cell_type": "code",
      "metadata": {
        "id": "k5_JpkIZRwqy"
      },
      "source": [
        "sequences_test = tokenizer.texts_to_sequences(corpus_test)\n",
        "max_len = max([len(x) for x in sequences_test])\n",
        "data_test = np.array(pad_sequences(sequences_test, padding='post', maxlen=max_len))"
      ],
      "execution_count": 26,
      "outputs": []
    },
    {
      "cell_type": "code",
      "metadata": {
        "colab": {
          "base_uri": "https://localhost:8080/"
        },
        "id": "v6GYGnE5SDIC",
        "outputId": "9db7a786-db4c-4ce1-fcdb-2ff1b7f4853e"
      },
      "source": [
        "predictions = model.predict_classes(data_test)\n",
        "predictions"
      ],
      "execution_count": 27,
      "outputs": [
        {
          "output_type": "stream",
          "text": [
            "WARNING:tensorflow:Model was constructed with shape (None, 3228) for input KerasTensor(type_spec=TensorSpec(shape=(None, 3228), dtype=tf.float32, name='embedding_input'), name='embedding_input', description=\"created by layer 'embedding_input'\"), but it was called on an input with incompatible shape (None, 3671).\n"
          ],
          "name": "stdout"
        },
        {
          "output_type": "stream",
          "text": [
            "/usr/local/lib/python3.7/dist-packages/tensorflow/python/keras/engine/sequential.py:450: UserWarning: `model.predict_classes()` is deprecated and will be removed after 2021-01-01. Please use instead:* `np.argmax(model.predict(x), axis=-1)`,   if your model does multi-class classification   (e.g. if it uses a `softmax` last-layer activation).* `(model.predict(x) > 0.5).astype(\"int32\")`,   if your model does binary classification   (e.g. if it uses a `sigmoid` last-layer activation).\n",
            "  warnings.warn('`model.predict_classes()` is deprecated and '\n"
          ],
          "name": "stderr"
        },
        {
          "output_type": "execute_result",
          "data": {
            "text/plain": [
              "array([2, 0, 0, 0, 2, 0, 2, 0, 0, 2, 1, 0, 0, 2, 0, 0, 0, 0, 2, 0, 0, 0,\n",
              "       0, 2, 0, 0, 0, 0, 2, 2, 2, 2, 0, 0, 0, 0, 1, 0, 1, 0, 2, 0, 1, 0,\n",
              "       2, 2, 2, 0, 2, 0, 0, 0, 0, 2, 2, 0, 0, 0, 0, 2, 1, 0, 0, 0, 1, 2,\n",
              "       2, 0, 2, 0, 0, 2, 0, 0, 0, 0, 0, 0, 0, 2, 0, 0, 1, 2, 0, 2, 0, 2,\n",
              "       0, 0, 0, 0, 0, 2, 0, 0, 1, 0, 0, 1, 0, 0, 0, 0, 2, 0, 0, 0, 0, 0,\n",
              "       2, 0, 0, 0, 2, 0, 2, 0, 1, 0, 0, 2, 2, 2, 2, 0, 1, 2, 0, 2, 0, 2,\n",
              "       0, 1, 0, 0, 0, 1, 2, 1, 0, 0, 0, 2, 2, 2, 2, 2, 0, 1, 0, 2, 0, 2,\n",
              "       2, 0, 1, 2, 0, 2, 1, 2, 0, 2, 2, 2, 1, 0, 0, 0, 0, 2, 1, 2, 0, 2,\n",
              "       0, 0, 1, 2, 2, 0, 2, 1, 1, 2, 1, 1, 2, 0, 1, 2, 0, 0, 0, 0, 2, 2,\n",
              "       2, 2, 0, 0, 2, 0, 2, 1, 0, 0, 0, 2, 0, 1, 2, 0, 0, 2, 0, 0, 1, 0,\n",
              "       1, 1, 2, 2, 2, 1, 0, 1, 2, 2, 2, 2, 0, 0, 1, 0, 2, 2, 0, 0, 0, 2,\n",
              "       2, 1, 0, 0, 0, 0, 0, 2, 1, 2, 2, 2, 1, 2, 1, 2, 1, 0, 0, 0, 0, 1,\n",
              "       1, 0, 0, 0, 2, 0, 0, 0, 0, 0, 2, 2, 0, 0, 1, 0, 0, 0, 0, 2, 0, 0,\n",
              "       0, 0, 2, 0, 0, 0, 0, 0, 0, 2, 0, 0, 2, 0, 0, 0, 0, 0, 1, 0, 2, 2,\n",
              "       2, 2, 2, 2, 0, 2, 2, 0, 0, 0, 0, 0, 2, 2, 0, 0, 0, 0, 1, 0, 0, 0,\n",
              "       0, 0, 0, 0, 2, 0, 0, 0, 0, 0, 0, 0, 0, 0, 0, 2, 0, 2, 0, 0, 2, 0,\n",
              "       0, 0, 0, 0, 0, 0, 0, 0, 0, 2, 2, 0])"
            ]
          },
          "metadata": {
            "tags": []
          },
          "execution_count": 27
        }
      ]
    },
    {
      "cell_type": "code",
      "metadata": {
        "id": "h_-_5rp-TBXb"
      },
      "source": [
        "df_out = pd.DataFrame()\n",
        "df_out['public_id'] = test['public_id']\n",
        "df_out.shape, predictions.shape\n",
        "df_out['predicted_rating'] = predictions\n",
        "\n",
        "decode = {0: \"false\",\n",
        "          1: \"true\",\n",
        "          2: \"partially false\",\n",
        "          3: \"other\"\n",
        "          }\n",
        "\n",
        "df_out = df_out.replace(decode)\n",
        "df_out.head()\n",
        "df_out.to_csv('predictions.csv', index=False)"
      ],
      "execution_count": 28,
      "outputs": []
    },
    {
      "cell_type": "code",
      "metadata": {
        "colab": {
          "base_uri": "https://localhost:8080/"
        },
        "id": "smA75a1iEHhk",
        "outputId": "2abba946-ad1e-4f60-cf3b-41b36d229074"
      },
      "source": [
        "model.save('model')"
      ],
      "execution_count": 30,
      "outputs": [
        {
          "output_type": "stream",
          "text": [
            "WARNING:absl:Found untraced functions such as lstm_cell_1_layer_call_fn, lstm_cell_1_layer_call_and_return_conditional_losses, lstm_cell_2_layer_call_fn, lstm_cell_2_layer_call_and_return_conditional_losses, lstm_cell_4_layer_call_fn while saving (showing 5 of 20). These functions will not be directly callable after loading.\n",
            "WARNING:absl:Found untraced functions such as lstm_cell_1_layer_call_fn, lstm_cell_1_layer_call_and_return_conditional_losses, lstm_cell_2_layer_call_fn, lstm_cell_2_layer_call_and_return_conditional_losses, lstm_cell_4_layer_call_fn while saving (showing 5 of 20). These functions will not be directly callable after loading.\n"
          ],
          "name": "stderr"
        },
        {
          "output_type": "stream",
          "text": [
            "INFO:tensorflow:Assets written to: model/assets\n"
          ],
          "name": "stdout"
        },
        {
          "output_type": "stream",
          "text": [
            "INFO:tensorflow:Assets written to: model/assets\n"
          ],
          "name": "stderr"
        }
      ]
    }
  ]
}