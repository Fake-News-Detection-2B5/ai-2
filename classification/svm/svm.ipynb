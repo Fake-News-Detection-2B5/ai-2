{
 "cells": [
  {
   "cell_type": "code",
   "execution_count": 93,
   "id": "1f93bb97",
   "metadata": {},
   "outputs": [],
   "source": [
    "import pandas as pd # data processing, CSV file I/O (read_csv)\n",
    "import numpy as np # linear algebra\n",
    "import matplotlib.pyplot as plt # data visualization\n",
    "import seaborn as sns # for statistical data visualization"
   ]
  },
  {
   "cell_type": "code",
   "execution_count": 94,
   "id": "1917f018",
   "metadata": {},
   "outputs": [],
   "source": [
    "dataset = pd.read_csv('task_3a_sample_data.csv', delimiter='\\t')"
   ]
  },
  {
   "cell_type": "code",
   "execution_count": 95,
   "id": "9944bf06",
   "metadata": {},
   "outputs": [
    {
     "data": {
      "text/plain": [
       "(50, 4)"
      ]
     },
     "execution_count": 95,
     "metadata": {},
     "output_type": "execute_result"
    }
   ],
   "source": [
    "dataset.shape"
   ]
  },
  {
   "cell_type": "code",
   "execution_count": 96,
   "id": "d6a36378",
   "metadata": {},
   "outputs": [
    {
     "data": {
      "text/html": [
       "<div>\n",
       "<style scoped>\n",
       "    .dataframe tbody tr th:only-of-type {\n",
       "        vertical-align: middle;\n",
       "    }\n",
       "\n",
       "    .dataframe tbody tr th {\n",
       "        vertical-align: top;\n",
       "    }\n",
       "\n",
       "    .dataframe thead th {\n",
       "        text-align: right;\n",
       "    }\n",
       "</style>\n",
       "<table border=\"1\" class=\"dataframe\">\n",
       "  <thead>\n",
       "    <tr style=\"text-align: right;\">\n",
       "      <th></th>\n",
       "      <th>public_id</th>\n",
       "      <th>title</th>\n",
       "      <th>text</th>\n",
       "      <th>our rating</th>\n",
       "    </tr>\n",
       "  </thead>\n",
       "  <tbody>\n",
       "    <tr>\n",
       "      <th>0</th>\n",
       "      <td>f2182a54</td>\n",
       "      <td>HUGE! Attorney Sidney Powell CONFIRMS Alleged ...</td>\n",
       "      <td>Last week Rep. Louie Gohmert told Chris Salced...</td>\n",
       "      <td>FALSE</td>\n",
       "    </tr>\n",
       "    <tr>\n",
       "      <th>1</th>\n",
       "      <td>c5175d8d</td>\n",
       "      <td>Paul Ryan’s Worst Ally - The New York Times</td>\n",
       "      <td>WHATEVER drama plays out when Republicans meet...</td>\n",
       "      <td>TRUE</td>\n",
       "    </tr>\n",
       "    <tr>\n",
       "      <th>2</th>\n",
       "      <td>392886ea</td>\n",
       "      <td>Antifa gearing up for false flag violence disg...</td>\n",
       "      <td>With merchants in Democrat-run cities boarding...</td>\n",
       "      <td>FALSE</td>\n",
       "    </tr>\n",
       "    <tr>\n",
       "      <th>3</th>\n",
       "      <td>bc6d5d55</td>\n",
       "      <td>Remarks by President Biden on the Administrati...</td>\n",
       "      <td>State Dining Room  4:22 P.M. EST  THE PRESIDEN...</td>\n",
       "      <td>partially false</td>\n",
       "    </tr>\n",
       "    <tr>\n",
       "      <th>4</th>\n",
       "      <td>b8437efb</td>\n",
       "      <td>BOMBSHELL: Covid-19 infection rate may be 440%...</td>\n",
       "      <td>(Natural News) A 2012 study published in the j...</td>\n",
       "      <td>FALSE</td>\n",
       "    </tr>\n",
       "  </tbody>\n",
       "</table>\n",
       "</div>"
      ],
      "text/plain": [
       "  public_id                                              title  \\\n",
       "0  f2182a54  HUGE! Attorney Sidney Powell CONFIRMS Alleged ...   \n",
       "1  c5175d8d        Paul Ryan’s Worst Ally - The New York Times   \n",
       "2  392886ea  Antifa gearing up for false flag violence disg...   \n",
       "3  bc6d5d55  Remarks by President Biden on the Administrati...   \n",
       "4  b8437efb  BOMBSHELL: Covid-19 infection rate may be 440%...   \n",
       "\n",
       "                                                text       our rating  \n",
       "0  Last week Rep. Louie Gohmert told Chris Salced...            FALSE  \n",
       "1  WHATEVER drama plays out when Republicans meet...             TRUE  \n",
       "2  With merchants in Democrat-run cities boarding...            FALSE  \n",
       "3  State Dining Room  4:22 P.M. EST  THE PRESIDEN...  partially false  \n",
       "4  (Natural News) A 2012 study published in the j...            FALSE  "
      ]
     },
     "execution_count": 96,
     "metadata": {},
     "output_type": "execute_result"
    }
   ],
   "source": [
    "dataset.head()"
   ]
  },
  {
   "cell_type": "code",
   "execution_count": 97,
   "id": "2e283df5",
   "metadata": {},
   "outputs": [
    {
     "data": {
      "text/plain": [
       "Index(['public_id', 'title', 'text', 'our rating'], dtype='object')"
      ]
     },
     "execution_count": 97,
     "metadata": {},
     "output_type": "execute_result"
    }
   ],
   "source": [
    "col_names = dataset.columns\n",
    "\n",
    "col_names"
   ]
  },
  {
   "cell_type": "code",
   "execution_count": 98,
   "id": "04c186e0",
   "metadata": {},
   "outputs": [
    {
     "data": {
      "text/plain": [
       "FALSE              21\n",
       "partially false    18\n",
       "TRUE               11\n",
       "Name: our rating, dtype: int64"
      ]
     },
     "execution_count": 98,
     "metadata": {},
     "output_type": "execute_result"
    }
   ],
   "source": [
    "# check distribution of 'our rating' column\n",
    "\n",
    "dataset['our rating'].value_counts()"
   ]
  },
  {
   "cell_type": "code",
   "execution_count": 99,
   "id": "2dac2abe",
   "metadata": {},
   "outputs": [
    {
     "data": {
      "text/plain": [
       "FALSE              0.42\n",
       "partially false    0.36\n",
       "TRUE               0.22\n",
       "Name: our rating, dtype: float64"
      ]
     },
     "execution_count": 99,
     "metadata": {},
     "output_type": "execute_result"
    }
   ],
   "source": [
    "# view percentage distribution of 'our rating' column\n",
    "\n",
    "dataset['our rating'].value_counts()/np.float(len(dataset))"
   ]
  },
  {
   "cell_type": "code",
   "execution_count": 100,
   "id": "b1c70d98",
   "metadata": {},
   "outputs": [
    {
     "name": "stdout",
     "output_type": "stream",
     "text": [
      "<class 'pandas.core.frame.DataFrame'>\n",
      "RangeIndex: 50 entries, 0 to 49\n",
      "Data columns (total 4 columns):\n",
      " #   Column      Non-Null Count  Dtype \n",
      "---  ------      --------------  ----- \n",
      " 0   public_id   50 non-null     object\n",
      " 1   title       50 non-null     object\n",
      " 2   text        50 non-null     object\n",
      " 3   our rating  50 non-null     object\n",
      "dtypes: object(4)\n",
      "memory usage: 1.7+ KB\n"
     ]
    }
   ],
   "source": [
    "# view summary dataset\n",
    "\n",
    "dataset.info()"
   ]
  },
  {
   "cell_type": "code",
   "execution_count": 101,
   "id": "ab60e805",
   "metadata": {},
   "outputs": [
    {
     "data": {
      "text/plain": [
       "public_id     0\n",
       "title         0\n",
       "text          0\n",
       "our rating    0\n",
       "dtype: int64"
      ]
     },
     "execution_count": 101,
     "metadata": {},
     "output_type": "execute_result"
    }
   ],
   "source": [
    "# check missing values\n",
    "\n",
    "dataset.isnull().sum()"
   ]
  },
  {
   "cell_type": "code",
   "execution_count": 102,
   "id": "f68bb942",
   "metadata": {},
   "outputs": [
    {
     "data": {
      "text/html": [
       "<div>\n",
       "<style scoped>\n",
       "    .dataframe tbody tr th:only-of-type {\n",
       "        vertical-align: middle;\n",
       "    }\n",
       "\n",
       "    .dataframe tbody tr th {\n",
       "        vertical-align: top;\n",
       "    }\n",
       "\n",
       "    .dataframe thead th {\n",
       "        text-align: right;\n",
       "    }\n",
       "</style>\n",
       "<table border=\"1\" class=\"dataframe\">\n",
       "  <thead>\n",
       "    <tr style=\"text-align: right;\">\n",
       "      <th></th>\n",
       "      <th>public_id</th>\n",
       "      <th>title</th>\n",
       "      <th>text</th>\n",
       "      <th>our rating</th>\n",
       "    </tr>\n",
       "  </thead>\n",
       "  <tbody>\n",
       "    <tr>\n",
       "      <th>count</th>\n",
       "      <td>50</td>\n",
       "      <td>50</td>\n",
       "      <td>50</td>\n",
       "      <td>50</td>\n",
       "    </tr>\n",
       "    <tr>\n",
       "      <th>unique</th>\n",
       "      <td>50</td>\n",
       "      <td>50</td>\n",
       "      <td>50</td>\n",
       "      <td>3</td>\n",
       "    </tr>\n",
       "    <tr>\n",
       "      <th>top</th>\n",
       "      <td>72d48555</td>\n",
       "      <td>Canadian Govt Publishes Bid Request For “Progr...</td>\n",
       "      <td>“America will never be a socialist country,” P...</td>\n",
       "      <td>FALSE</td>\n",
       "    </tr>\n",
       "    <tr>\n",
       "      <th>freq</th>\n",
       "      <td>1</td>\n",
       "      <td>1</td>\n",
       "      <td>1</td>\n",
       "      <td>21</td>\n",
       "    </tr>\n",
       "  </tbody>\n",
       "</table>\n",
       "</div>"
      ],
      "text/plain": [
       "       public_id                                              title  \\\n",
       "count         50                                                 50   \n",
       "unique        50                                                 50   \n",
       "top     72d48555  Canadian Govt Publishes Bid Request For “Progr...   \n",
       "freq           1                                                  1   \n",
       "\n",
       "                                                     text our rating  \n",
       "count                                                  50         50  \n",
       "unique                                                 50          3  \n",
       "top     “America will never be a socialist country,” P...      FALSE  \n",
       "freq                                                    1         21  "
      ]
     },
     "execution_count": 102,
     "metadata": {},
     "output_type": "execute_result"
    }
   ],
   "source": [
    "dataset.describe()"
   ]
  },
  {
   "cell_type": "code",
   "execution_count": 103,
   "id": "48f2aec8",
   "metadata": {},
   "outputs": [],
   "source": [
    "X = dataset.drop(columns=['our rating'])\n",
    "\n",
    "y = dataset['our rating']\n",
    "\n",
    "X['total'] = X['title'] + ' ' + X['text']"
   ]
  },
  {
   "cell_type": "code",
   "execution_count": 104,
   "id": "b2306585",
   "metadata": {},
   "outputs": [],
   "source": [
    "words = X.copy()"
   ]
  },
  {
   "cell_type": "code",
   "execution_count": 105,
   "id": "c8efcec6",
   "metadata": {
    "scrolled": true
   },
   "outputs": [
    {
     "name": "stderr",
     "output_type": "stream",
     "text": [
      "[nltk_data] Downloading package stopwords to\n",
      "[nltk_data]     /Users/rares.radu/nltk_data...\n",
      "[nltk_data]   Package stopwords is already up-to-date!\n",
      "[nltk_data] Downloading package wordnet to\n",
      "[nltk_data]     /Users/rares.radu/nltk_data...\n",
      "[nltk_data]   Package wordnet is already up-to-date!\n"
     ]
    },
    {
     "data": {
      "text/plain": [
       "True"
      ]
     },
     "execution_count": 105,
     "metadata": {},
     "output_type": "execute_result"
    }
   ],
   "source": [
    "import nltk\n",
    "\n",
    "from nltk.corpus import stopwords\n",
    "\n",
    "nltk.download('stopwords')\n",
    "\n",
    "nltk.download('wordnet')"
   ]
  },
  {
   "cell_type": "code",
   "execution_count": 114,
   "id": "a018db7f",
   "metadata": {},
   "outputs": [],
   "source": [
    "import re\n",
    "from nltk.stem import WordNetLemmatizer\n",
    "\n",
    "lemmatizer = WordNetLemmatizer()\n",
    "corpus = []\n",
    "corpus_test = []\n",
    "\n",
    "for i in range(len(words)):\n",
    "    review = re.sub('[^a-zA-Z]', ' ', words['total'][i])\n",
    "    review = review.lower()\n",
    "    review = review.split()\n",
    "    review = [lemmatizer.lemmatize(word) for word in review if not word in stopwords.words('english')]\n",
    "    review = ' '.join(review)\n",
    "    corpus.append(review)"
   ]
  },
  {
   "cell_type": "code",
   "execution_count": 115,
   "id": "db8f38ee",
   "metadata": {},
   "outputs": [],
   "source": [
    "from sklearn.feature_extraction.text import TfidfVectorizer\n",
    "\n",
    "tfidf_vec = TfidfVectorizer(max_features=5000, ngram_range=(1,3))\n",
    "\n",
    "X = tfidf_vec.fit_transform(corpus).toarray()"
   ]
  },
  {
   "cell_type": "code",
   "execution_count": 116,
   "id": "b5392ec6",
   "metadata": {},
   "outputs": [],
   "source": [
    "# split X and y into training and testing sets\n",
    "\n",
    "from sklearn.model_selection import train_test_split\n",
    "\n",
    "X_train, X_test, y_train, y_test = train_test_split(X, y, test_size = 0.2)"
   ]
  },
  {
   "cell_type": "code",
   "execution_count": 117,
   "id": "09332af6",
   "metadata": {},
   "outputs": [],
   "source": [
    "from sklearn import metrics\n",
    "from sklearn.svm import SVC\n",
    "svc = SVC(kernel='linear', gamma='auto')\n",
    "\n",
    "svc.fit(X_train, y_train)\n",
    "\n",
    "prediction = svc.predict(X_test)"
   ]
  },
  {
   "cell_type": "code",
   "execution_count": 118,
   "id": "a447c353",
   "metadata": {
    "scrolled": true
   },
   "outputs": [
    {
     "data": {
      "text/plain": [
       "{'FALSE': {'precision': 1.0,\n",
       "  'recall': 0.6666666666666666,\n",
       "  'f1-score': 0.8,\n",
       "  'support': 6},\n",
       " 'TRUE': {'precision': 0.0, 'recall': 0.0, 'f1-score': 0.0, 'support': 1},\n",
       " 'partially false': {'precision': 0.4,\n",
       "  'recall': 0.6666666666666666,\n",
       "  'f1-score': 0.5,\n",
       "  'support': 3},\n",
       " 'accuracy': 0.6,\n",
       " 'macro avg': {'precision': 0.4666666666666666,\n",
       "  'recall': 0.4444444444444444,\n",
       "  'f1-score': 0.43333333333333335,\n",
       "  'support': 10},\n",
       " 'weighted avg': {'precision': 0.72,\n",
       "  'recall': 0.6,\n",
       "  'f1-score': 0.6300000000000001,\n",
       "  'support': 10}}"
      ]
     },
     "execution_count": 118,
     "metadata": {},
     "output_type": "execute_result"
    }
   ],
   "source": [
    "report = metrics.classification_report(y_test, prediction, output_dict=True)\n",
    "\n",
    "report"
   ]
  },
  {
   "cell_type": "code",
   "execution_count": 119,
   "id": "3b48dea9",
   "metadata": {},
   "outputs": [
    {
     "data": {
      "text/plain": [
       "array([[4, 0, 2],\n",
       "       [0, 0, 1],\n",
       "       [0, 1, 2]])"
      ]
     },
     "execution_count": 119,
     "metadata": {},
     "output_type": "execute_result"
    }
   ],
   "source": [
    "metrics.confusion_matrix(y_test, prediction)"
   ]
  },
  {
   "cell_type": "code",
   "execution_count": null,
   "id": "325e1c25",
   "metadata": {},
   "outputs": [],
   "source": []
  }
 ],
 "metadata": {
  "kernelspec": {
   "display_name": "Python 3",
   "language": "python",
   "name": "python3"
  },
  "language_info": {
   "codemirror_mode": {
    "name": "ipython",
    "version": 3
   },
   "file_extension": ".py",
   "mimetype": "text/x-python",
   "name": "python",
   "nbconvert_exporter": "python",
   "pygments_lexer": "ipython3",
   "version": "3.8.8"
  }
 },
 "nbformat": 4,
 "nbformat_minor": 5
}
