{
 "cells": [
  {
   "cell_type": "code",
   "execution_count": 2,
   "id": "1f93bb97",
   "metadata": {},
   "outputs": [],
   "source": [
    "import pandas as pd # data processing, CSV file I/O (read_csv)\n",
    "import numpy as np # linear algebra\n",
    "import matplotlib.pyplot as plt # data visualization\n",
    "import seaborn as sns # for statistical data visualization"
   ]
  },
  {
   "cell_type": "code",
   "execution_count": 3,
   "id": "1917f018",
   "metadata": {
    "scrolled": false
   },
   "outputs": [],
   "source": [
    "dataset = pd.read_csv('task_3a_sample_data.csv', delimiter='\\t')"
   ]
  },
  {
   "cell_type": "code",
   "execution_count": 4,
   "id": "9944bf06",
   "metadata": {},
   "outputs": [
    {
     "data": {
      "text/plain": [
       "(50, 4)"
      ]
     },
     "execution_count": 4,
     "metadata": {},
     "output_type": "execute_result"
    }
   ],
   "source": [
    "dataset.shape"
   ]
  },
  {
   "cell_type": "code",
   "execution_count": 5,
   "id": "d6a36378",
   "metadata": {
    "scrolled": true
   },
   "outputs": [
    {
     "data": {
      "text/html": [
       "<div>\n",
       "<style scoped>\n",
       "    .dataframe tbody tr th:only-of-type {\n",
       "        vertical-align: middle;\n",
       "    }\n",
       "\n",
       "    .dataframe tbody tr th {\n",
       "        vertical-align: top;\n",
       "    }\n",
       "\n",
       "    .dataframe thead th {\n",
       "        text-align: right;\n",
       "    }\n",
       "</style>\n",
       "<table border=\"1\" class=\"dataframe\">\n",
       "  <thead>\n",
       "    <tr style=\"text-align: right;\">\n",
       "      <th></th>\n",
       "      <th>public_id</th>\n",
       "      <th>title</th>\n",
       "      <th>text</th>\n",
       "      <th>our rating</th>\n",
       "    </tr>\n",
       "  </thead>\n",
       "  <tbody>\n",
       "    <tr>\n",
       "      <th>0</th>\n",
       "      <td>f2182a54</td>\n",
       "      <td>HUGE! Attorney Sidney Powell CONFIRMS Alleged ...</td>\n",
       "      <td>Last week Rep. Louie Gohmert told Chris Salced...</td>\n",
       "      <td>FALSE</td>\n",
       "    </tr>\n",
       "    <tr>\n",
       "      <th>1</th>\n",
       "      <td>c5175d8d</td>\n",
       "      <td>Paul Ryan’s Worst Ally - The New York Times</td>\n",
       "      <td>WHATEVER drama plays out when Republicans meet...</td>\n",
       "      <td>TRUE</td>\n",
       "    </tr>\n",
       "    <tr>\n",
       "      <th>2</th>\n",
       "      <td>392886ea</td>\n",
       "      <td>Antifa gearing up for false flag violence disg...</td>\n",
       "      <td>With merchants in Democrat-run cities boarding...</td>\n",
       "      <td>FALSE</td>\n",
       "    </tr>\n",
       "    <tr>\n",
       "      <th>3</th>\n",
       "      <td>bc6d5d55</td>\n",
       "      <td>Remarks by President Biden on the Administrati...</td>\n",
       "      <td>State Dining Room  4:22 P.M. EST  THE PRESIDEN...</td>\n",
       "      <td>partially false</td>\n",
       "    </tr>\n",
       "    <tr>\n",
       "      <th>4</th>\n",
       "      <td>b8437efb</td>\n",
       "      <td>BOMBSHELL: Covid-19 infection rate may be 440%...</td>\n",
       "      <td>(Natural News) A 2012 study published in the j...</td>\n",
       "      <td>FALSE</td>\n",
       "    </tr>\n",
       "  </tbody>\n",
       "</table>\n",
       "</div>"
      ],
      "text/plain": [
       "  public_id                                              title  \\\n",
       "0  f2182a54  HUGE! Attorney Sidney Powell CONFIRMS Alleged ...   \n",
       "1  c5175d8d        Paul Ryan’s Worst Ally - The New York Times   \n",
       "2  392886ea  Antifa gearing up for false flag violence disg...   \n",
       "3  bc6d5d55  Remarks by President Biden on the Administrati...   \n",
       "4  b8437efb  BOMBSHELL: Covid-19 infection rate may be 440%...   \n",
       "\n",
       "                                                text       our rating  \n",
       "0  Last week Rep. Louie Gohmert told Chris Salced...            FALSE  \n",
       "1  WHATEVER drama plays out when Republicans meet...             TRUE  \n",
       "2  With merchants in Democrat-run cities boarding...            FALSE  \n",
       "3  State Dining Room  4:22 P.M. EST  THE PRESIDEN...  partially false  \n",
       "4  (Natural News) A 2012 study published in the j...            FALSE  "
      ]
     },
     "execution_count": 5,
     "metadata": {},
     "output_type": "execute_result"
    }
   ],
   "source": [
    "dataset.head()"
   ]
  },
  {
   "cell_type": "code",
   "execution_count": 6,
   "id": "2e283df5",
   "metadata": {},
   "outputs": [
    {
     "data": {
      "text/plain": [
       "Index(['public_id', 'title', 'text', 'our rating'], dtype='object')"
      ]
     },
     "execution_count": 6,
     "metadata": {},
     "output_type": "execute_result"
    }
   ],
   "source": [
    "col_names = dataset.columns\n",
    "\n",
    "col_names"
   ]
  },
  {
   "cell_type": "code",
   "execution_count": 7,
   "id": "04c186e0",
   "metadata": {},
   "outputs": [
    {
     "data": {
      "text/plain": [
       "FALSE              21\n",
       "partially false    18\n",
       "TRUE               11\n",
       "Name: our rating, dtype: int64"
      ]
     },
     "execution_count": 7,
     "metadata": {},
     "output_type": "execute_result"
    }
   ],
   "source": [
    "# check distribution of 'our rating' column\n",
    "\n",
    "dataset['our rating'].value_counts()"
   ]
  },
  {
   "cell_type": "code",
   "execution_count": 8,
   "id": "2dac2abe",
   "metadata": {
    "scrolled": true
   },
   "outputs": [
    {
     "data": {
      "text/plain": [
       "FALSE              0.42\n",
       "partially false    0.36\n",
       "TRUE               0.22\n",
       "Name: our rating, dtype: float64"
      ]
     },
     "execution_count": 8,
     "metadata": {},
     "output_type": "execute_result"
    }
   ],
   "source": [
    "# view percentage distribution of 'our rating' column\n",
    "\n",
    "dataset['our rating'].value_counts()/np.float(len(dataset))"
   ]
  },
  {
   "cell_type": "code",
   "execution_count": 9,
   "id": "b1c70d98",
   "metadata": {
    "scrolled": true
   },
   "outputs": [
    {
     "name": "stdout",
     "output_type": "stream",
     "text": [
      "<class 'pandas.core.frame.DataFrame'>\n",
      "RangeIndex: 50 entries, 0 to 49\n",
      "Data columns (total 4 columns):\n",
      " #   Column      Non-Null Count  Dtype \n",
      "---  ------      --------------  ----- \n",
      " 0   public_id   50 non-null     object\n",
      " 1   title       50 non-null     object\n",
      " 2   text        50 non-null     object\n",
      " 3   our rating  50 non-null     object\n",
      "dtypes: object(4)\n",
      "memory usage: 1.7+ KB\n"
     ]
    }
   ],
   "source": [
    "# view summary dataset\n",
    "\n",
    "dataset.info()"
   ]
  },
  {
   "cell_type": "code",
   "execution_count": 10,
   "id": "ab60e805",
   "metadata": {
    "scrolled": true
   },
   "outputs": [
    {
     "data": {
      "text/plain": [
       "public_id     0\n",
       "title         0\n",
       "text          0\n",
       "our rating    0\n",
       "dtype: int64"
      ]
     },
     "execution_count": 10,
     "metadata": {},
     "output_type": "execute_result"
    }
   ],
   "source": [
    "# check missing values\n",
    "\n",
    "dataset.isnull().sum()"
   ]
  },
  {
   "cell_type": "code",
   "execution_count": 11,
   "id": "f68bb942",
   "metadata": {
    "scrolled": true
   },
   "outputs": [
    {
     "data": {
      "text/html": [
       "<div>\n",
       "<style scoped>\n",
       "    .dataframe tbody tr th:only-of-type {\n",
       "        vertical-align: middle;\n",
       "    }\n",
       "\n",
       "    .dataframe tbody tr th {\n",
       "        vertical-align: top;\n",
       "    }\n",
       "\n",
       "    .dataframe thead th {\n",
       "        text-align: right;\n",
       "    }\n",
       "</style>\n",
       "<table border=\"1\" class=\"dataframe\">\n",
       "  <thead>\n",
       "    <tr style=\"text-align: right;\">\n",
       "      <th></th>\n",
       "      <th>public_id</th>\n",
       "      <th>title</th>\n",
       "      <th>text</th>\n",
       "      <th>our rating</th>\n",
       "    </tr>\n",
       "  </thead>\n",
       "  <tbody>\n",
       "    <tr>\n",
       "      <th>count</th>\n",
       "      <td>50</td>\n",
       "      <td>50</td>\n",
       "      <td>50</td>\n",
       "      <td>50</td>\n",
       "    </tr>\n",
       "    <tr>\n",
       "      <th>unique</th>\n",
       "      <td>50</td>\n",
       "      <td>50</td>\n",
       "      <td>50</td>\n",
       "      <td>3</td>\n",
       "    </tr>\n",
       "    <tr>\n",
       "      <th>top</th>\n",
       "      <td>610801c6</td>\n",
       "      <td>Trump Is the Worst Kind of Socialist</td>\n",
       "      <td>Please Share This Story!                  Dr. ...</td>\n",
       "      <td>FALSE</td>\n",
       "    </tr>\n",
       "    <tr>\n",
       "      <th>freq</th>\n",
       "      <td>1</td>\n",
       "      <td>1</td>\n",
       "      <td>1</td>\n",
       "      <td>21</td>\n",
       "    </tr>\n",
       "  </tbody>\n",
       "</table>\n",
       "</div>"
      ],
      "text/plain": [
       "       public_id                                 title  \\\n",
       "count         50                                    50   \n",
       "unique        50                                    50   \n",
       "top     610801c6  Trump Is the Worst Kind of Socialist   \n",
       "freq           1                                     1   \n",
       "\n",
       "                                                     text our rating  \n",
       "count                                                  50         50  \n",
       "unique                                                 50          3  \n",
       "top     Please Share This Story!                  Dr. ...      FALSE  \n",
       "freq                                                    1         21  "
      ]
     },
     "execution_count": 11,
     "metadata": {},
     "output_type": "execute_result"
    }
   ],
   "source": [
    "dataset.describe()"
   ]
  },
  {
   "cell_type": "code",
   "execution_count": 12,
   "id": "48f2aec8",
   "metadata": {},
   "outputs": [],
   "source": [
    "X = dataset.drop(columns=['our rating'])\n",
    "\n",
    "y = dataset['our rating']\n",
    "\n",
    "X['total'] = X['title'] + ' ' + X['text']"
   ]
  },
  {
   "cell_type": "code",
   "execution_count": 13,
   "id": "b2d53001",
   "metadata": {},
   "outputs": [],
   "source": [
    "words = X.copy()"
   ]
  },
  {
   "cell_type": "code",
   "execution_count": 14,
   "id": "6d96397a",
   "metadata": {
    "scrolled": true
   },
   "outputs": [
    {
     "name": "stderr",
     "output_type": "stream",
     "text": [
      "[nltk_data] Downloading package stopwords to\n",
      "[nltk_data]     /Users/rares.radu/nltk_data...\n",
      "[nltk_data]   Package stopwords is already up-to-date!\n",
      "[nltk_data] Downloading package wordnet to\n",
      "[nltk_data]     /Users/rares.radu/nltk_data...\n",
      "[nltk_data]   Package wordnet is already up-to-date!\n"
     ]
    },
    {
     "data": {
      "text/plain": [
       "True"
      ]
     },
     "execution_count": 14,
     "metadata": {},
     "output_type": "execute_result"
    }
   ],
   "source": [
    "import nltk\n",
    "\n",
    "from nltk.corpus import stopwords\n",
    "\n",
    "nltk.download('stopwords')\n",
    "\n",
    "nltk.download('wordnet')"
   ]
  },
  {
   "cell_type": "code",
   "execution_count": 15,
   "id": "e39f8e41",
   "metadata": {},
   "outputs": [],
   "source": [
    "import re\n",
    "from nltk.stem import WordNetLemmatizer\n",
    "\n",
    "lemmatizer = WordNetLemmatizer()\n",
    "corpus = []\n",
    "\n",
    "for i in range(len(words)):\n",
    "    review = re.sub('[^a-zA-Z]', ' ', words['total'][i])\n",
    "    review = review.lower()\n",
    "    review = review.split()\n",
    "    review = [lemmatizer.lemmatize(word) for word in review if not word in stopwords.words('english')]\n",
    "    review = ' '.join(review)\n",
    "    corpus.append(review)"
   ]
  },
  {
   "cell_type": "code",
   "execution_count": 16,
   "id": "e7242625",
   "metadata": {},
   "outputs": [],
   "source": [
    "# from sklearn.feature_extraction.text import TfidfVectorizer\n",
    "\n",
    "# tfidf_vec = TfidfVectorizer(max_features=5000, ngram_range=(1,3))\n",
    "\n",
    "# X = tfidf_vec.fit_transform(corpus).toarray()\n",
    "\n",
    "\n",
    "from sklearn.feature_extraction.text import CountVectorizer\n",
    "\n",
    "vectorizer = CountVectorizer()\n",
    "\n",
    "X = vectorizer.fit_transform(corpus).toarray()"
   ]
  },
  {
   "cell_type": "code",
   "execution_count": 17,
   "id": "b5392ec6",
   "metadata": {},
   "outputs": [],
   "source": [
    "# split X and y into training and testing sets\n",
    "\n",
    "from sklearn.model_selection import train_test_split\n",
    "\n",
    "X_train, X_test, y_train, y_test = train_test_split(X, y, test_size = 0.2)"
   ]
  },
  {
   "cell_type": "code",
   "execution_count": 18,
   "id": "c987ddbd",
   "metadata": {
    "scrolled": true
   },
   "outputs": [],
   "source": [
    "from sklearn import metrics\n",
    "from sklearn.svm import SVC\n",
    "svc = SVC(kernel='linear', gamma='auto')\n",
    "\n",
    "svc.fit(X_train, y_train)\n",
    "\n",
    "prediction = svc.predict(X_test)"
   ]
  },
  {
   "cell_type": "code",
   "execution_count": 19,
   "id": "28a59028",
   "metadata": {
    "scrolled": false
   },
   "outputs": [
    {
     "data": {
      "text/plain": [
       "{'FALSE': {'precision': 0.2857142857142857,\n",
       "  'recall': 1.0,\n",
       "  'f1-score': 0.4444444444444445,\n",
       "  'support': 2},\n",
       " 'TRUE': {'precision': 1.0,\n",
       "  'recall': 0.3333333333333333,\n",
       "  'f1-score': 0.5,\n",
       "  'support': 3},\n",
       " 'partially false': {'precision': 0.0,\n",
       "  'recall': 0.0,\n",
       "  'f1-score': 0.0,\n",
       "  'support': 5},\n",
       " 'accuracy': 0.3,\n",
       " 'macro avg': {'precision': 0.42857142857142855,\n",
       "  'recall': 0.4444444444444444,\n",
       "  'f1-score': 0.3148148148148148,\n",
       "  'support': 10},\n",
       " 'weighted avg': {'precision': 0.3571428571428571,\n",
       "  'recall': 0.3,\n",
       "  'f1-score': 0.23888888888888887,\n",
       "  'support': 10}}"
      ]
     },
     "execution_count": 19,
     "metadata": {},
     "output_type": "execute_result"
    }
   ],
   "source": [
    "report = metrics.classification_report(y_test, prediction, output_dict=True)\n",
    "\n",
    "report"
   ]
  },
  {
   "cell_type": "code",
   "execution_count": 20,
   "id": "93a58795",
   "metadata": {},
   "outputs": [
    {
     "data": {
      "image/png": "[encoded data removed]",
      "text/plain": [
       "<Figure size 432x288 with 2 Axes>"
      ]
     },
     "metadata": {
      "needs_background": "light"
     },
     "output_type": "display_data"
    }
   ],
   "source": [
    "from sklearn.metrics import plot_confusion_matrix\n",
    "cm = metrics.plot_confusion_matrix(svc, X_test, y_test, cmap=plt.cm.Blues, normalize='true')"
   ]
  },
  {
   "cell_type": "code",
   "execution_count": 60,
   "id": "07f4b6f6",
   "metadata": {},
   "outputs": [],
   "source": [
    "true_false_dataset = dataset[(dataset['our rating'] == 'TRUE') | (dataset['our rating'] == 'FALSE')]\n",
    "true_partially_false_dataset = dataset[(dataset['our rating'] == 'TRUE') | (dataset['our rating'] == 'partially false')]\n",
    "false_partially_false_dataset = dataset[(dataset['our rating'] == 'FALSE') | (dataset['our rating'] == 'partially false')]"
   ]
  },
  {
   "cell_type": "code",
   "execution_count": 61,
   "id": "7cc346fc",
   "metadata": {
    "scrolled": true
   },
   "outputs": [],
   "source": [
    "X_true_false = true_false_dataset.drop(columns=['our rating'])\n",
    "y_true_false = true_false_dataset['our rating']\n",
    "\n",
    "X_true_false['total'] = X_true_false['title'] + ' ' + X_true_false['text']\n",
    "\n",
    "\n",
    "\n",
    "\n",
    "X_true_partially_false = true_partially_false_dataset.drop(columns=['our rating'])\n",
    "y_true_partially_false = true_partially_false_dataset['our rating']\n",
    "\n",
    "X_true_partially_false['total'] = X_true_partially_false['title'] + ' ' + X_true_partially_false['text']\n",
    "\n",
    "\n",
    "\n",
    "\n",
    "X_false_partially_false = false_partially_false_dataset.drop(columns=['our rating'])\n",
    "y_false_partially_false = false_partially_false_dataset['our rating']\n",
    "\n",
    "X_false_partially_false['total'] = X_false_partially_false['title'] + ' ' + X_false_partially_false['text']"
   ]
  },
  {
   "cell_type": "code",
   "execution_count": 62,
   "id": "5ccbfc25",
   "metadata": {
    "scrolled": false
   },
   "outputs": [],
   "source": [
    "words_true_false = X_true_false.copy()\n",
    "words_true_partially_false = X_true_partially_false.copy()\n",
    "words_false_partially_false = X_false_partially_false.copy()\n"
   ]
  },
  {
   "cell_type": "code",
   "execution_count": 64,
   "id": "5609cd2a",
   "metadata": {
    "scrolled": true
   },
   "outputs": [],
   "source": [
    "lemmatizer = WordNetLemmatizer()\n",
    "corpus_true_false = []\n",
    "\n",
    "for i in range(50):\n",
    "    if(i in words_true_false['total']):\n",
    "        review_true_false = re.sub('[^a-zA-Z]', ' ', words_true_false['total'][i])\n",
    "        review_true_false = review_true_false.lower()\n",
    "        review_true_false = review_true_false.split()\n",
    "        review_true_false = [lemmatizer.lemmatize(word) for word in review_true_false if not word in stopwords.words('english')]\n",
    "        review_true_false = ' '.join(review_true_false)\n",
    "        corpus_true_false.append(review_true_false)\n",
    "\n",
    "lemmatizer = WordNetLemmatizer()\n",
    "corpus_true_partially_false = []\n",
    "for i in range(50):\n",
    "    if(i in words_true_partially_false['total']):\n",
    "        review_true_partially_false = re.sub('[^a-zA-Z]', ' ', words_true_partially_false['total'][i])\n",
    "        review_true_partially_false = review_true_partially_false.lower()\n",
    "        review_true_partially_false = review_true_partially_false.split()\n",
    "        review_true_partially_false = [lemmatizer.lemmatize(word) for word in review_true_partially_false if not word in stopwords.words('english')]\n",
    "        review_true_partially_false = ' '.join(review_true_partially_false)\n",
    "        corpus_true_partially_false.append(review_true_partially_false)\n",
    "        \n",
    "lemmatizer = WordNetLemmatizer()\n",
    "corpus_false_partially_false = []\n",
    "for i in range(50):\n",
    "    if(i in words_false_partially_false['total']):\n",
    "        review_false_partially_false = re.sub('[^a-zA-Z]', ' ', words_false_partially_false['total'][i])\n",
    "        review_false_partially_false = review_false_partially_false.lower()\n",
    "        review_false_partially_false = review_false_partially_false.split()\n",
    "        review_false_partially_false = [lemmatizer.lemmatize(word) for word in review_false_partially_false if not word in stopwords.words('english')]\n",
    "        review_false_partially_false = ' '.join(review_false_partially_false)\n",
    "        corpus_false_partially_false.append(review_false_partially_false)"
   ]
  },
  {
   "cell_type": "code",
   "execution_count": 65,
   "id": "cde70400",
   "metadata": {},
   "outputs": [],
   "source": [
    "vectorizer = CountVectorizer()\n",
    "\n",
    "X_true_false = vectorizer.fit_transform(corpus_true_false).toarray()\n",
    "\n",
    "vectorizer = CountVectorizer()\n",
    "\n",
    "X_true_partially_false = vectorizer.fit_transform(corpus_true_partially_false).toarray()\n",
    "\n",
    "vectorizer = CountVectorizer()\n",
    "\n",
    "X_false_partially_false = vectorizer.fit_transform(corpus_false_partially_false).toarray()"
   ]
  },
  {
   "cell_type": "code",
   "execution_count": 162,
   "id": "9d15a422",
   "metadata": {
    "scrolled": true
   },
   "outputs": [],
   "source": [
    "from sklearn.model_selection import train_test_split\n",
    "\n",
    "X_true_false_train, X_true_false_test, y_true_false_train, y_true_false_test = train_test_split(X_true_false, y_true_false, test_size = 0.2)\n",
    "\n",
    "X_true_partially_false_train, X_true_partially_false_test, y_true_partially_false_train, y_true_partially_false_test = train_test_split(X_true_partially_false, y_true_partially_false, test_size = 0.2)\n",
    "\n",
    "X_false_partially_false_train, X_false_partially_false_test, y_false_partially_false_train, y_false_partially_false_test = train_test_split(X_false_partially_false, y_false_partially_false, test_size = 0.2)"
   ]
  },
  {
   "cell_type": "code",
   "execution_count": 163,
   "id": "a6f702b6",
   "metadata": {},
   "outputs": [],
   "source": [
    "from sklearn import metrics\n",
    "from sklearn.svm import SVC\n",
    "svc_true_false = SVC(gamma='auto', C=100.0)\n",
    "svc_true_partially_false = SVC(kernel='sigmoid', C=100.0, gamma='auto')\n",
    "svc_false_partially_false = SVC(kernel='linear', C=100.0, gamma='auto')\n",
    "\n",
    "# svc = SVC(kernel='linear', C=10000.0, gamma='auto')\n",
    "\n",
    "svc_true_false.fit(X_true_false_train, y_true_false_train)\n",
    "svc_true_partially_false.fit(X_true_partially_false_train, y_true_partially_false_train)\n",
    "svc_false_partially_false.fit(X_false_partially_false_train, y_false_partially_false_train)\n",
    "\n",
    "prediction_true_false = svc_true_false.predict(X_true_false_test)\n",
    "prediction_true_partially_false = svc_true_partially_false.predict(X_true_partially_false_test)\n",
    "prediction_false_partially_false = svc_false_partially_false.predict(X_false_partially_false_test)"
   ]
  },
  {
   "cell_type": "code",
   "execution_count": 164,
   "id": "59f4f975",
   "metadata": {
    "scrolled": false
   },
   "outputs": [
    {
     "data": {
      "text/plain": [
       "{'FALSE': {'precision': 0.8333333333333334,\n",
       "  'recall': 1.0,\n",
       "  'f1-score': 0.9090909090909091,\n",
       "  'support': 5},\n",
       " 'TRUE': {'precision': 1.0,\n",
       "  'recall': 0.5,\n",
       "  'f1-score': 0.6666666666666666,\n",
       "  'support': 2},\n",
       " 'accuracy': 0.8571428571428571,\n",
       " 'macro avg': {'precision': 0.9166666666666667,\n",
       "  'recall': 0.75,\n",
       "  'f1-score': 0.7878787878787878,\n",
       "  'support': 7},\n",
       " 'weighted avg': {'precision': 0.880952380952381,\n",
       "  'recall': 0.8571428571428571,\n",
       "  'f1-score': 0.8398268398268397,\n",
       "  'support': 7}}"
      ]
     },
     "execution_count": 164,
     "metadata": {},
     "output_type": "execute_result"
    }
   ],
   "source": [
    "report_true_false = metrics.classification_report(y_true_false_test, prediction_true_false, output_dict=True)\n",
    "\n",
    "report_true_false"
   ]
  },
  {
   "cell_type": "code",
   "execution_count": 165,
   "id": "c123c2d2",
   "metadata": {},
   "outputs": [
    {
     "data": {
      "text/plain": [
       "{'TRUE': {'precision': 0.0, 'recall': 0.0, 'f1-score': 0.0, 'support': 1},\n",
       " 'partially false': {'precision': 0.8,\n",
       "  'recall': 0.8,\n",
       "  'f1-score': 0.8000000000000002,\n",
       "  'support': 5},\n",
       " 'accuracy': 0.6666666666666666,\n",
       " 'macro avg': {'precision': 0.4,\n",
       "  'recall': 0.4,\n",
       "  'f1-score': 0.4000000000000001,\n",
       "  'support': 6},\n",
       " 'weighted avg': {'precision': 0.6666666666666666,\n",
       "  'recall': 0.6666666666666666,\n",
       "  'f1-score': 0.6666666666666669,\n",
       "  'support': 6}}"
      ]
     },
     "execution_count": 165,
     "metadata": {},
     "output_type": "execute_result"
    }
   ],
   "source": [
    "report_true_partially_false = metrics.classification_report(y_true_partially_false_test, prediction_true_partially_false, output_dict=True)\n",
    "\n",
    "report_true_partially_false"
   ]
  },
  {
   "cell_type": "code",
   "execution_count": 166,
   "id": "8b100a98",
   "metadata": {},
   "outputs": [
    {
     "data": {
      "text/plain": [
       "{'FALSE': {'precision': 0.3333333333333333,\n",
       "  'recall': 1.0,\n",
       "  'f1-score': 0.5,\n",
       "  'support': 2},\n",
       " 'partially false': {'precision': 1.0,\n",
       "  'recall': 0.3333333333333333,\n",
       "  'f1-score': 0.5,\n",
       "  'support': 6},\n",
       " 'accuracy': 0.5,\n",
       " 'macro avg': {'precision': 0.6666666666666666,\n",
       "  'recall': 0.6666666666666666,\n",
       "  'f1-score': 0.5,\n",
       "  'support': 8},\n",
       " 'weighted avg': {'precision': 0.8333333333333334,\n",
       "  'recall': 0.5,\n",
       "  'f1-score': 0.5,\n",
       "  'support': 8}}"
      ]
     },
     "execution_count": 166,
     "metadata": {},
     "output_type": "execute_result"
    }
   ],
   "source": [
    "report_false_partially_false = metrics.classification_report(y_false_partially_false_test, prediction_false_partially_false, output_dict=True)\n",
    "\n",
    "report_false_partially_false"
   ]
  },
  {
   "cell_type": "code",
   "execution_count": 167,
   "id": "be8ccf11",
   "metadata": {},
   "outputs": [
    {
     "data": {
      "image/png": "[encoded data removed]",
      "text/plain": [
       "<Figure size 432x288 with 2 Axes>"
      ]
     },
     "metadata": {
      "needs_background": "light"
     },
     "output_type": "display_data"
    }
   ],
   "source": [
    "from sklearn.metrics import plot_confusion_matrix\n",
    "cm = metrics.plot_confusion_matrix(svc_true_false, X_true_false_test, y_true_false_test, cmap=plt.cm.Blues, normalize='true')\n"
   ]
  },
  {
   "cell_type": "code",
   "execution_count": 168,
   "id": "097ce25a",
   "metadata": {},
   "outputs": [
    {
     "data": {
      "image/png": "[encoded data removed]",
      "text/plain": [
       "<Figure size 432x288 with 2 Axes>"
      ]
     },
     "metadata": {
      "needs_background": "light"
     },
     "output_type": "display_data"
    }
   ],
   "source": [
    "cm = metrics.plot_confusion_matrix(svc_true_partially_false, X_true_partially_false_test, y_true_partially_false_test, cmap=plt.cm.Blues, normalize='true')"
   ]
  },
  {
   "cell_type": "code",
   "execution_count": 169,
   "id": "f3428aa6",
   "metadata": {},
   "outputs": [
    {
     "data": {
      "image/png": "[encoded data removed]",
      "text/plain": [
       "<Figure size 432x288 with 2 Axes>"
      ]
     },
     "metadata": {
      "needs_background": "light"
     },
     "output_type": "display_data"
    }
   ],
   "source": [
    "cm = metrics.plot_confusion_matrix(svc_false_partially_false, X_false_partially_false_test, y_false_partially_false_test, cmap=plt.cm.Blues, normalize='true')"
   ]
  },
  {
   "cell_type": "code",
   "execution_count": null,
   "id": "f0575dc0",
   "metadata": {},
   "outputs": [],
   "source": []
  }
 ],
 "metadata": {
  "kernelspec": {
   "display_name": "Python 3",
   "language": "python",
   "name": "python3"
  },
  "language_info": {
   "codemirror_mode": {
    "name": "ipython",
    "version": 3
   },
   "file_extension": ".py",
   "mimetype": "text/x-python",
   "name": "python",
   "nbconvert_exporter": "python",
   "pygments_lexer": "ipython3",
   "version": "3.8.8"
  }
 },
 "nbformat": 4,
 "nbformat_minor": 5
}
