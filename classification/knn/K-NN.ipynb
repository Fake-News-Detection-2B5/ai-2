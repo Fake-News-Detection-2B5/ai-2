{
 "cells": [
  {
   "cell_type": "code",
   "execution_count": null,
   "metadata": {},
   "outputs": [],
   "source": []
  },
  {
   "cell_type": "code",
   "execution_count": 172,
   "metadata": {
    "scrolled": true
   },
   "outputs": [
    {
     "data": {
      "text/plain": [
       "0.4"
      ]
     },
     "execution_count": 172,
     "metadata": {},
     "output_type": "execute_result"
    }
   ],
   "source": [
    "import numpy as np \n",
    "import matplotlib.pyplot as plt \n",
    "import pandas as pd \n",
    "from sklearn.neighbors import KNeighborsClassifier \n",
    "from sklearn.model_selection import train_test_split \n",
    "from sklearn.metrics import accuracy_score \n",
    "from sklearn.preprocessing import LabelEncoder\n",
    "from sklearn.feature_extraction import FeatureHasher\n",
    "from sklearn.metrics import confusion_matrix\n",
    "from sklearn.metrics import classification_report\n",
    "\n",
    "dataset = pd.read_csv('task_3a_sample_data.csv', delimiter = '\\t')\n",
    "\n",
    "for col in ['public_id','title','text', 'our rating']: \n",
    "    dataset[col] = dataset[col].astype('category')\n",
    "\n",
    "dataset = pd.get_dummies(data=dataset,columns=['public_id','title','text'])\n",
    "labelencoder = LabelEncoder() \n",
    "dataset['our rating'] = labelencoder.fit_transform(dataset['our rating'])\n",
    "\n",
    "X=dataset.drop(columns=['our rating']) \n",
    "y=dataset['our rating']\n",
    "\n",
    "X_train, X_test, y_train, y_test= train_test_split(X,y,test_size=0.2) \n",
    "\n",
    "knn=KNeighborsClassifier() \n",
    "knn.fit(X_train,y_train)\n",
    "\n",
    "predictions=knn.predict(X_test)\n",
    "\n",
    "score=accuracy_score(y_test, predictions)\n",
    "score\n",
    "\n",
    "#print('Accuracy of K-NN classifier on training set: {:.2f}'.format(knn.score(X_train,y_train))) \n",
    "#print('Accuracy of K-NN classifier on test set: {:.2f}'.format(knn.score(X_test,y_test)))\n"
   ]
  },
  {
   "cell_type": "code",
   "execution_count": 173,
   "metadata": {
    "scrolled": true
   },
   "outputs": [
    {
     "name": "stderr",
     "output_type": "stream",
     "text": [
      "C:\\Users\\RaresGeorge\\anaconda3\\lib\\site-packages\\sklearn\\metrics\\_classification.py:1221: UndefinedMetricWarning: Precision and F-score are ill-defined and being set to 0.0 in labels with no predicted samples. Use `zero_division` parameter to control this behavior.\n",
      "  _warn_prf(average, modifier, msg_start, len(result))\n"
     ]
    },
    {
     "data": {
      "text/plain": [
       "{'0': {'precision': 0.4,\n",
       "  'recall': 1.0,\n",
       "  'f1-score': 0.5714285714285715,\n",
       "  'support': 4},\n",
       " '1': {'precision': 0.0, 'recall': 0.0, 'f1-score': 0.0, 'support': 1},\n",
       " '2': {'precision': 0.0, 'recall': 0.0, 'f1-score': 0.0, 'support': 5},\n",
       " 'accuracy': 0.4,\n",
       " 'macro avg': {'precision': 0.13333333333333333,\n",
       "  'recall': 0.3333333333333333,\n",
       "  'f1-score': 0.1904761904761905,\n",
       "  'support': 10},\n",
       " 'weighted avg': {'precision': 0.16,\n",
       "  'recall': 0.4,\n",
       "  'f1-score': 0.2285714285714286,\n",
       "  'support': 10}}"
      ]
     },
     "execution_count": 173,
     "metadata": {},
     "output_type": "execute_result"
    }
   ],
   "source": [
    "prediction=knn.predict(X_test)\n",
    "\n",
    "report = classification_report(y_test,prediction,output_dict=True)\n",
    "report\n",
    "#prediction"
   ]
  },
  {
   "cell_type": "code",
   "execution_count": 174,
   "metadata": {},
   "outputs": [
    {
     "data": {
      "text/plain": [
       "array([[4, 0, 0],\n",
       "       [1, 0, 0],\n",
       "       [5, 0, 0]], dtype=int64)"
      ]
     },
     "execution_count": 174,
     "metadata": {},
     "output_type": "execute_result"
    }
   ],
   "source": [
    "matrics=confusion_matrix(y_test, prediction)\n",
    "matrics"
   ]
  },
  {
   "cell_type": "code",
   "execution_count": null,
   "metadata": {},
   "outputs": [],
   "source": []
  }
 ],
 "metadata": {
  "kernelspec": {
   "display_name": "Python 3",
   "language": "python",
   "name": "python3"
  },
  "language_info": {
   "codemirror_mode": {
    "name": "ipython",
    "version": 3
   },
   "file_extension": ".py",
   "mimetype": "text/x-python",
   "name": "python",
   "nbconvert_exporter": "python",
   "pygments_lexer": "ipython3",
   "version": "3.8.5"
  }
 },
 "nbformat": 4,
 "nbformat_minor": 4
}
