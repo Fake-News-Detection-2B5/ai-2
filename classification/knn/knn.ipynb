{
 "cells": [
  {
   "cell_type": "code",
   "execution_count": 3,
   "id": "2bbb1fb1",
   "metadata": {},
   "outputs": [],
   "source": [
    "import numpy as np\n",
    "import matplotlib.pyplot as plt\n",
    "import pandas as pd"
   ]
  },
  {
   "cell_type": "code",
   "execution_count": 4,
   "id": "ed70a5cc",
   "metadata": {},
   "outputs": [
    {
     "data": {
      "text/html": [
       "<div>\n",
       "<style scoped>\n",
       "    .dataframe tbody tr th:only-of-type {\n",
       "        vertical-align: middle;\n",
       "    }\n",
       "\n",
       "    .dataframe tbody tr th {\n",
       "        vertical-align: top;\n",
       "    }\n",
       "\n",
       "    .dataframe thead th {\n",
       "        text-align: right;\n",
       "    }\n",
       "</style>\n",
       "<table border=\"1\" class=\"dataframe\">\n",
       "  <thead>\n",
       "    <tr style=\"text-align: right;\">\n",
       "      <th></th>\n",
       "      <th>public_id</th>\n",
       "      <th>title</th>\n",
       "      <th>text</th>\n",
       "      <th>our rating</th>\n",
       "    </tr>\n",
       "  </thead>\n",
       "  <tbody>\n",
       "    <tr>\n",
       "      <th>0</th>\n",
       "      <td>f2182a54</td>\n",
       "      <td>HUGE! Attorney Sidney Powell CONFIRMS Alleged ...</td>\n",
       "      <td>Last week Rep. Louie Gohmert told Chris Salced...</td>\n",
       "      <td>FALSE</td>\n",
       "    </tr>\n",
       "    <tr>\n",
       "      <th>1</th>\n",
       "      <td>c5175d8d</td>\n",
       "      <td>Paul Ryan’s Worst Ally - The New York Times</td>\n",
       "      <td>WHATEVER drama plays out when Republicans meet...</td>\n",
       "      <td>TRUE</td>\n",
       "    </tr>\n",
       "    <tr>\n",
       "      <th>2</th>\n",
       "      <td>213a870b</td>\n",
       "      <td>You Can Get Jail Time Or $3,000 Fine For Not W...</td>\n",
       "      <td>Source page URL  Title You Can Get Jail Time O...</td>\n",
       "      <td>FALSE</td>\n",
       "    </tr>\n",
       "    <tr>\n",
       "      <th>3</th>\n",
       "      <td>392886ea</td>\n",
       "      <td>Antifa gearing up for false flag violence disg...</td>\n",
       "      <td>With merchants in Democrat-run cities boarding...</td>\n",
       "      <td>FALSE</td>\n",
       "    </tr>\n",
       "    <tr>\n",
       "      <th>4</th>\n",
       "      <td>bc6d5d55</td>\n",
       "      <td>Remarks by President Biden on the Administrati...</td>\n",
       "      <td>State Dining Room  4:22 P.M. EST  THE PRESIDEN...</td>\n",
       "      <td>partially false</td>\n",
       "    </tr>\n",
       "  </tbody>\n",
       "</table>\n",
       "</div>"
      ],
      "text/plain": [
       "  public_id                                              title  \\\n",
       "0  f2182a54  HUGE! Attorney Sidney Powell CONFIRMS Alleged ...   \n",
       "1  c5175d8d        Paul Ryan’s Worst Ally - The New York Times   \n",
       "2  213a870b  You Can Get Jail Time Or $3,000 Fine For Not W...   \n",
       "3  392886ea  Antifa gearing up for false flag violence disg...   \n",
       "4  bc6d5d55  Remarks by President Biden on the Administrati...   \n",
       "\n",
       "                                                text       our rating  \n",
       "0  Last week Rep. Louie Gohmert told Chris Salced...            FALSE  \n",
       "1  WHATEVER drama plays out when Republicans meet...             TRUE  \n",
       "2  Source page URL  Title You Can Get Jail Time O...            FALSE  \n",
       "3  With merchants in Democrat-run cities boarding...            FALSE  \n",
       "4  State Dining Room  4:22 P.M. EST  THE PRESIDEN...  partially false  "
      ]
     },
     "execution_count": 4,
     "metadata": {},
     "output_type": "execute_result"
    }
   ],
   "source": [
    "df = pd.read_csv('task_3a_sample_data.csv')\n",
    "df.head()"
   ]
  },
  {
   "cell_type": "code",
   "execution_count": 5,
   "id": "2173a41d",
   "metadata": {},
   "outputs": [
    {
     "data": {
      "text/plain": [
       "((50, 4), (50,))"
      ]
     },
     "execution_count": 5,
     "metadata": {},
     "output_type": "execute_result"
    }
   ],
   "source": [
    "X = df.drop('our rating', axis=1)\n",
    "y = df['our rating']\n",
    "\n",
    "X['total'] = X['title'] + ' ' + X['text']\n",
    "\n",
    "X.shape, y.shape"
   ]
  },
  {
   "cell_type": "code",
   "execution_count": 6,
   "id": "dd2135e7",
   "metadata": {},
   "outputs": [],
   "source": [
    "words = X.copy()"
   ]
  },
  {
   "cell_type": "code",
   "execution_count": 7,
   "id": "f4190118",
   "metadata": {},
   "outputs": [
    {
     "name": "stderr",
     "output_type": "stream",
     "text": [
      "[nltk_data] Downloading package stopwords to\n",
      "[nltk_data]     /Users/skyehigh/nltk_data...\n",
      "[nltk_data]   Package stopwords is already up-to-date!\n",
      "[nltk_data] Downloading package wordnet to\n",
      "[nltk_data]     /Users/skyehigh/nltk_data...\n",
      "[nltk_data]   Package wordnet is already up-to-date!\n"
     ]
    },
    {
     "data": {
      "text/plain": [
       "True"
      ]
     },
     "execution_count": 7,
     "metadata": {},
     "output_type": "execute_result"
    }
   ],
   "source": [
    "import nltk\n",
    "from nltk.corpus import stopwords\n",
    "nltk.download('stopwords')\n",
    "nltk.download('wordnet')"
   ]
  },
  {
   "cell_type": "code",
   "execution_count": 8,
   "id": "afb706f5",
   "metadata": {},
   "outputs": [],
   "source": [
    "import re\n",
    "from nltk.stem import WordNetLemmatizer\n",
    "\n",
    "lemmatizer = WordNetLemmatizer()\n",
    "corpus = []\n",
    "corpus_test = []\n",
    "\n",
    "for i in range(len(words)):\n",
    "    review = re.sub('[^a-zA-Z]', ' ', words['total'][i])\n",
    "    review = review.lower()\n",
    "    review = review.split()\n",
    "    review = [lemmatizer.lemmatize(word) for word in review if not word in stopwords.words('english')]\n",
    "    review = ' '.join(review)\n",
    "    corpus.append(review)\n",
    "    "
   ]
  },
  {
   "cell_type": "code",
   "execution_count": 9,
   "id": "cd72cd9c",
   "metadata": {},
   "outputs": [
    {
     "data": {
      "text/plain": [
       "(50, 5000)"
      ]
     },
     "execution_count": 9,
     "metadata": {},
     "output_type": "execute_result"
    }
   ],
   "source": [
    "from sklearn.feature_extraction.text import TfidfVectorizer\n",
    "tfidf_vec = TfidfVectorizer(max_features=5000, ngram_range=(1,3))\n",
    "X = tfidf_vec.fit_transform(corpus).toarray()\n",
    "X.shape"
   ]
  },
  {
   "cell_type": "code",
   "execution_count": 10,
   "id": "34fdb5a9",
   "metadata": {},
   "outputs": [],
   "source": [
    "from sklearn.model_selection import train_test_split\n",
    "X_train, X_test, y_train, y_test = train_test_split(X, y, test_size=0.2, random_state=0)"
   ]
  },
  {
   "cell_type": "code",
   "execution_count": 11,
   "id": "c88d9789",
   "metadata": {
    "scrolled": true
   },
   "outputs": [
    {
     "data": {
      "text/plain": [
       "KNeighborsClassifier()"
      ]
     },
     "execution_count": 11,
     "metadata": {},
     "output_type": "execute_result"
    }
   ],
   "source": [
    "from sklearn import metrics\n",
    "from sklearn.neighbors import KNeighborsClassifier\n",
    "\n",
    "classifier = KNeighborsClassifier()\n",
    "classifier.fit(X_train, y_train)\n"
   ]
  },
  {
   "cell_type": "code",
   "execution_count": 12,
   "id": "adf323b0",
   "metadata": {},
   "outputs": [
    {
     "data": {
      "text/plain": [
       "{'FALSE': {'precision': 1.0, 'recall': 0.25, 'f1-score': 0.4, 'support': 4},\n",
       " 'TRUE': {'precision': 0.0, 'recall': 0.0, 'f1-score': 0.0, 'support': 1},\n",
       " 'partially false': {'precision': 0.5714285714285714,\n",
       "  'recall': 0.8,\n",
       "  'f1-score': 0.6666666666666666,\n",
       "  'support': 5},\n",
       " 'accuracy': 0.5,\n",
       " 'macro avg': {'precision': 0.5238095238095238,\n",
       "  'recall': 0.35000000000000003,\n",
       "  'f1-score': 0.35555555555555557,\n",
       "  'support': 10},\n",
       " 'weighted avg': {'precision': 0.6857142857142857,\n",
       "  'recall': 0.5,\n",
       "  'f1-score': 0.49333333333333335,\n",
       "  'support': 10}}"
      ]
     },
     "execution_count": 12,
     "metadata": {},
     "output_type": "execute_result"
    }
   ],
   "source": [
    "prediction = classifier.predict(X_test)\n",
    "\n",
    "report = metrics.classification_report(y_test, prediction, output_dict=True)\n",
    "\n",
    "report"
   ]
  },
  {
   "cell_type": "code",
   "execution_count": 13,
   "id": "9a313594",
   "metadata": {},
   "outputs": [
    {
     "data": {
      "image/png": "[encoded data removed]",
      "text/plain": [
       "<Figure size 432x288 with 2 Axes>"
      ]
     },
     "metadata": {
      "needs_background": "light"
     },
     "output_type": "display_data"
    }
   ],
   "source": [
    "from sklearn.metrics import plot_confusion_matrix\n",
    "cm = metrics.plot_confusion_matrix(classifier, X_test, y_test, cmap=plt.cm.Blues, normalize='true')"
   ]
  },
  {
   "cell_type": "code",
   "execution_count": null,
   "id": "a0c779fe",
   "metadata": {},
   "outputs": [],
   "source": []
  }
 ],
 "metadata": {
  "kernelspec": {
   "display_name": "Python 3",
   "language": "python",
   "name": "python3"
  },
  "language_info": {
   "codemirror_mode": {
    "name": "ipython",
    "version": 3
   },
   "file_extension": ".py",
   "mimetype": "text/x-python",
   "name": "python",
   "nbconvert_exporter": "python",
   "pygments_lexer": "ipython3",
   "version": "3.9.2"
  }
 },
 "nbformat": 4,
 "nbformat_minor": 5
}
