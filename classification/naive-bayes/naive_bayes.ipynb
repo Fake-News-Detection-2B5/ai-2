{
 "cells": [
  {
   "cell_type": "code",
   "execution_count": 323,
   "id": "2bbb1fb1",
   "metadata": {},
   "outputs": [],
   "source": [
    "import numpy as np\n",
    "import matplotlib.pyplot as plt\n",
    "import pandas as pd"
   ]
  },
  {
   "cell_type": "code",
   "execution_count": 324,
   "id": "ed70a5cc",
   "metadata": {},
   "outputs": [
    {
     "data": {
      "text/html": [
       "<div>\n",
       "<style scoped>\n",
       "    .dataframe tbody tr th:only-of-type {\n",
       "        vertical-align: middle;\n",
       "    }\n",
       "\n",
       "    .dataframe tbody tr th {\n",
       "        vertical-align: top;\n",
       "    }\n",
       "\n",
       "    .dataframe thead th {\n",
       "        text-align: right;\n",
       "    }\n",
       "</style>\n",
       "<table border=\"1\" class=\"dataframe\">\n",
       "  <thead>\n",
       "    <tr style=\"text-align: right;\">\n",
       "      <th></th>\n",
       "      <th>public_id</th>\n",
       "      <th>title</th>\n",
       "      <th>text</th>\n",
       "      <th>our rating</th>\n",
       "    </tr>\n",
       "  </thead>\n",
       "  <tbody>\n",
       "    <tr>\n",
       "      <th>0</th>\n",
       "      <td>f2182a54</td>\n",
       "      <td>HUGE! Attorney Sidney Powell CONFIRMS Alleged ...</td>\n",
       "      <td>Last week Rep. Louie Gohmert told Chris Salced...</td>\n",
       "      <td>FALSE</td>\n",
       "    </tr>\n",
       "    <tr>\n",
       "      <th>1</th>\n",
       "      <td>c5175d8d</td>\n",
       "      <td>Paul Ryan’s Worst Ally - The New York Times</td>\n",
       "      <td>WHATEVER drama plays out when Republicans meet...</td>\n",
       "      <td>TRUE</td>\n",
       "    </tr>\n",
       "    <tr>\n",
       "      <th>2</th>\n",
       "      <td>213a870b</td>\n",
       "      <td>You Can Get Jail Time Or $3,000 Fine For Not W...</td>\n",
       "      <td>Source page URL  Title You Can Get Jail Time O...</td>\n",
       "      <td>FALSE</td>\n",
       "    </tr>\n",
       "    <tr>\n",
       "      <th>3</th>\n",
       "      <td>392886ea</td>\n",
       "      <td>Antifa gearing up for false flag violence disg...</td>\n",
       "      <td>With merchants in Democrat-run cities boarding...</td>\n",
       "      <td>FALSE</td>\n",
       "    </tr>\n",
       "    <tr>\n",
       "      <th>4</th>\n",
       "      <td>bc6d5d55</td>\n",
       "      <td>Remarks by President Biden on the Administrati...</td>\n",
       "      <td>State Dining Room  4:22 P.M. EST  THE PRESIDEN...</td>\n",
       "      <td>partially false</td>\n",
       "    </tr>\n",
       "  </tbody>\n",
       "</table>\n",
       "</div>"
      ],
      "text/plain": [
       "  public_id                                              title  \\\n",
       "0  f2182a54  HUGE! Attorney Sidney Powell CONFIRMS Alleged ...   \n",
       "1  c5175d8d        Paul Ryan’s Worst Ally - The New York Times   \n",
       "2  213a870b  You Can Get Jail Time Or $3,000 Fine For Not W...   \n",
       "3  392886ea  Antifa gearing up for false flag violence disg...   \n",
       "4  bc6d5d55  Remarks by President Biden on the Administrati...   \n",
       "\n",
       "                                                text       our rating  \n",
       "0  Last week Rep. Louie Gohmert told Chris Salced...            FALSE  \n",
       "1  WHATEVER drama plays out when Republicans meet...             TRUE  \n",
       "2  Source page URL  Title You Can Get Jail Time O...            FALSE  \n",
       "3  With merchants in Democrat-run cities boarding...            FALSE  \n",
       "4  State Dining Room  4:22 P.M. EST  THE PRESIDEN...  partially false  "
      ]
     },
     "execution_count": 324,
     "metadata": {},
     "output_type": "execute_result"
    }
   ],
   "source": [
    "df = pd.read_csv('task_3a_sample_data.csv')\n",
    "df.head()"
   ]
  },
  {
   "cell_type": "code",
   "execution_count": 325,
   "id": "2173a41d",
   "metadata": {},
   "outputs": [
    {
     "data": {
      "text/plain": [
       "((50, 4), (50,))"
      ]
     },
     "execution_count": 325,
     "metadata": {},
     "output_type": "execute_result"
    }
   ],
   "source": [
    "X = df.drop('our rating', axis=1)\n",
    "y = df['our rating']\n",
    "\n",
    "X['total'] = X['title'] + ' ' + X['text']\n",
    "\n",
    "X.shape, y.shape"
   ]
  },
  {
   "cell_type": "code",
   "execution_count": 326,
   "id": "dd2135e7",
   "metadata": {},
   "outputs": [],
   "source": [
    "words = X.copy()"
   ]
  },
  {
   "cell_type": "code",
   "execution_count": 327,
   "id": "f4190118",
   "metadata": {},
   "outputs": [
    {
     "name": "stderr",
     "output_type": "stream",
     "text": [
      "[nltk_data] Downloading package stopwords to\n",
      "[nltk_data]     /Users/skyehigh/nltk_data...\n",
      "[nltk_data]   Package stopwords is already up-to-date!\n",
      "[nltk_data] Downloading package wordnet to\n",
      "[nltk_data]     /Users/skyehigh/nltk_data...\n",
      "[nltk_data]   Package wordnet is already up-to-date!\n"
     ]
    },
    {
     "data": {
      "text/plain": [
       "True"
      ]
     },
     "execution_count": 327,
     "metadata": {},
     "output_type": "execute_result"
    }
   ],
   "source": [
    "import nltk\n",
    "from nltk.corpus import stopwords\n",
    "nltk.download('stopwords')\n",
    "nltk.download('wordnet')"
   ]
  },
  {
   "cell_type": "code",
   "execution_count": 328,
   "id": "afb706f5",
   "metadata": {},
   "outputs": [],
   "source": [
    "import re\n",
    "from nltk.stem import WordNetLemmatizer\n",
    "\n",
    "lemmatizer = WordNetLemmatizer()\n",
    "corpus = []\n",
    "corpus_test = []\n",
    "\n",
    "for i in range(len(words)):\n",
    "    review = re.sub('[^a-zA-Z]', ' ', words['total'][i])\n",
    "    review = review.lower()\n",
    "    review = review.split()\n",
    "    review = [lemmatizer.lemmatize(word) for word in review if not word in stopwords.words('english')]\n",
    "    review = ' '.join(review)\n",
    "    corpus.append(review)\n",
    "    "
   ]
  },
  {
   "cell_type": "code",
   "execution_count": 329,
   "id": "cd72cd9c",
   "metadata": {},
   "outputs": [
    {
     "data": {
      "text/plain": [
       "(50, 5000)"
      ]
     },
     "execution_count": 329,
     "metadata": {},
     "output_type": "execute_result"
    }
   ],
   "source": [
    "from sklearn.feature_extraction.text import TfidfVectorizer\n",
    "tfidf_vec = TfidfVectorizer(max_features=5000, ngram_range=(1,3))\n",
    "X = tfidf_vec.fit_transform(corpus).toarray()\n",
    "X.shape"
   ]
  },
  {
   "cell_type": "code",
   "execution_count": 330,
   "id": "34fdb5a9",
   "metadata": {},
   "outputs": [],
   "source": [
    "from sklearn.model_selection import train_test_split\n",
    "X_train, X_test, y_train, y_test = train_test_split(X, y, test_size=0.2, random_state=0)"
   ]
  },
  {
   "cell_type": "code",
   "execution_count": 334,
   "id": "c88d9789",
   "metadata": {
    "scrolled": true
   },
   "outputs": [
    {
     "name": "stderr",
     "output_type": "stream",
     "text": [
      "/usr/local/lib/python3.9/site-packages/sklearn/naive_bayes.py:508: UserWarning: alpha too small will result in numeric errors, setting alpha = 1.0e-10\n",
      "  warnings.warn('alpha too small will result in numeric errors, '\n"
     ]
    }
   ],
   "source": [
    "from sklearn import metrics\n",
    "from sklearn.naive_bayes import MultinomialNB\n",
    "classifier = MultinomialNB()\n",
    "\n",
    "previous_score = 0\n",
    "for alpha in np.arange(0, 1, 0.1):\n",
    "    sub_classifier = MultinomialNB(alpha=alpha)\n",
    "    sub_classifier.fit(X_train, y_train)\n",
    "    y_pred = sub_classifier.predict(X_test)\n",
    "    score = metrics.accuracy_score(y_test, y_pred)\n",
    "    \n",
    "    if score > previous_score:\n",
    "        classifier = sub_classifier\n",
    "        previous_score = score\n"
   ]
  },
  {
   "cell_type": "code",
   "execution_count": 335,
   "id": "adf323b0",
   "metadata": {},
   "outputs": [
    {
     "data": {
      "text/plain": [
       "{'FALSE': {'precision': 0.75, 'recall': 0.75, 'f1-score': 0.75, 'support': 4},\n",
       " 'TRUE': {'precision': 0.5,\n",
       "  'recall': 1.0,\n",
       "  'f1-score': 0.6666666666666666,\n",
       "  'support': 1},\n",
       " 'partially false': {'precision': 0.75,\n",
       "  'recall': 0.6,\n",
       "  'f1-score': 0.6666666666666665,\n",
       "  'support': 5},\n",
       " 'accuracy': 0.7,\n",
       " 'macro avg': {'precision': 0.6666666666666666,\n",
       "  'recall': 0.7833333333333333,\n",
       "  'f1-score': 0.6944444444444443,\n",
       "  'support': 10},\n",
       " 'weighted avg': {'precision': 0.725,\n",
       "  'recall': 0.7,\n",
       "  'f1-score': 0.7,\n",
       "  'support': 10}}"
      ]
     },
     "execution_count": 335,
     "metadata": {},
     "output_type": "execute_result"
    }
   ],
   "source": [
    "prediction = classifier.predict(X_test)\n",
    "\n",
    "report = metrics.classification_report(y_test, prediction, output_dict=True)\n",
    "\n",
    "report"
   ]
  },
  {
   "cell_type": "code",
   "execution_count": 333,
   "id": "8b07869f",
   "metadata": {},
   "outputs": [
    {
     "data": {
      "text/plain": [
       "array([[3, 0, 1],\n",
       "       [0, 1, 0],\n",
       "       [1, 1, 3]])"
      ]
     },
     "execution_count": 333,
     "metadata": {},
     "output_type": "execute_result"
    }
   ],
   "source": [
    "metrics.confusion_matrix(y_test, prediction)"
   ]
  }
 ],
 "metadata": {
  "kernelspec": {
   "display_name": "Python 3",
   "language": "python",
   "name": "python3"
  },
  "language_info": {
   "codemirror_mode": {
    "name": "ipython",
    "version": 3
   },
   "file_extension": ".py",
   "mimetype": "text/x-python",
   "name": "python",
   "nbconvert_exporter": "python",
   "pygments_lexer": "ipython3",
   "version": "3.9.2"
  }
 },
 "nbformat": 4,
 "nbformat_minor": 5
}
